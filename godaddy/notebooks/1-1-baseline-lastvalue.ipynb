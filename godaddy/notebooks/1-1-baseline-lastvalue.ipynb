{
 "cells": [
  {
   "cell_type": "markdown",
   "metadata": {},
   "source": [
    "# 1.1. Baseline - The Last Value is All You Need\n",
    "\n",
    "Forecasting microbusiness density for 3,154 counties over 8 months is a challenging task. Inspired by [Chris Deotte](https://www.kaggle.com/competitions/godaddy-microbusiness-density-forecasting/discussion/418287)'s simple yet effective approach, I'm starting with a straightforward method: using the last known value for each county. This baseline approach, adjusted with open census data, has proven powerful without needing complex mathematical models or training steps. All we need is the latest recorded microbusiness density for each county."
   ]
  },
  {
   "cell_type": "code",
   "execution_count": 1,
   "metadata": {},
   "outputs": [],
   "source": [
    "import os, datetime\n",
    "from tqdm import tqdm\n",
    "\n",
    "import numpy as np\n",
    "import pandas as pd\n",
    "\n",
    "from utils import SMAPE\n",
    "\n",
    "pd.options.mode.chained_assignment = None "
   ]
  },
  {
   "cell_type": "code",
   "execution_count": 2,
   "metadata": {},
   "outputs": [],
   "source": [
    "data_dir = '../data/'\n",
    "\n",
    "# train data\n",
    "df_train = pd.read_csv(os.path.join(data_dir, 'train.csv'))\n",
    "df_revealed_test = pd.read_csv(os.path.join(data_dir, 'revealed_test.csv'))\n",
    "df_submission = pd.read_csv(os.path.join(data_dir, 'sample_submission.csv'))\n",
    "df_census = pd.read_csv(os.path.join(data_dir, 'census_starter.csv'))\n",
    "\n",
    "# test data\n",
    "df_test = pd.read_csv(os.path.join(data_dir, 'all_revealed_test.csv'))"
   ]
  },
  {
   "cell_type": "markdown",
   "metadata": {},
   "source": [
    "## 1. yield last known value of each county"
   ]
  },
  {
   "cell_type": "code",
   "execution_count": 3,
   "metadata": {},
   "outputs": [
    {
     "data": {
      "text/html": [
       "<div>\n",
       "<style scoped>\n",
       "    .dataframe tbody tr th:only-of-type {\n",
       "        vertical-align: middle;\n",
       "    }\n",
       "\n",
       "    .dataframe tbody tr th {\n",
       "        vertical-align: top;\n",
       "    }\n",
       "\n",
       "    .dataframe thead th {\n",
       "        text-align: right;\n",
       "    }\n",
       "</style>\n",
       "<table border=\"1\" class=\"dataframe\">\n",
       "  <thead>\n",
       "    <tr style=\"text-align: right;\">\n",
       "      <th></th>\n",
       "      <th>row_id</th>\n",
       "      <th>cfips</th>\n",
       "      <th>county</th>\n",
       "      <th>state</th>\n",
       "      <th>first_day_of_month</th>\n",
       "      <th>microbusiness_density</th>\n",
       "      <th>active</th>\n",
       "    </tr>\n",
       "  </thead>\n",
       "  <tbody>\n",
       "    <tr>\n",
       "      <th>0</th>\n",
       "      <td>1001_2019-08-01</td>\n",
       "      <td>1001</td>\n",
       "      <td>Autauga County</td>\n",
       "      <td>Alabama</td>\n",
       "      <td>2019-08-01</td>\n",
       "      <td>3.007682</td>\n",
       "      <td>1249</td>\n",
       "    </tr>\n",
       "    <tr>\n",
       "      <th>1</th>\n",
       "      <td>1001_2019-09-01</td>\n",
       "      <td>1001</td>\n",
       "      <td>Autauga County</td>\n",
       "      <td>Alabama</td>\n",
       "      <td>2019-09-01</td>\n",
       "      <td>2.884870</td>\n",
       "      <td>1198</td>\n",
       "    </tr>\n",
       "    <tr>\n",
       "      <th>2</th>\n",
       "      <td>1001_2019-10-01</td>\n",
       "      <td>1001</td>\n",
       "      <td>Autauga County</td>\n",
       "      <td>Alabama</td>\n",
       "      <td>2019-10-01</td>\n",
       "      <td>3.055843</td>\n",
       "      <td>1269</td>\n",
       "    </tr>\n",
       "    <tr>\n",
       "      <th>3</th>\n",
       "      <td>1001_2019-11-01</td>\n",
       "      <td>1001</td>\n",
       "      <td>Autauga County</td>\n",
       "      <td>Alabama</td>\n",
       "      <td>2019-11-01</td>\n",
       "      <td>2.993233</td>\n",
       "      <td>1243</td>\n",
       "    </tr>\n",
       "    <tr>\n",
       "      <th>4</th>\n",
       "      <td>1001_2019-12-01</td>\n",
       "      <td>1001</td>\n",
       "      <td>Autauga County</td>\n",
       "      <td>Alabama</td>\n",
       "      <td>2019-12-01</td>\n",
       "      <td>2.993233</td>\n",
       "      <td>1243</td>\n",
       "    </tr>\n",
       "  </tbody>\n",
       "</table>\n",
       "</div>"
      ],
      "text/plain": [
       "            row_id  cfips          county    state first_day_of_month  \\\n",
       "0  1001_2019-08-01   1001  Autauga County  Alabama         2019-08-01   \n",
       "1  1001_2019-09-01   1001  Autauga County  Alabama         2019-09-01   \n",
       "2  1001_2019-10-01   1001  Autauga County  Alabama         2019-10-01   \n",
       "3  1001_2019-11-01   1001  Autauga County  Alabama         2019-11-01   \n",
       "4  1001_2019-12-01   1001  Autauga County  Alabama         2019-12-01   \n",
       "\n",
       "   microbusiness_density  active  \n",
       "0               3.007682    1249  \n",
       "1               2.884870    1198  \n",
       "2               3.055843    1269  \n",
       "3               2.993233    1243  \n",
       "4               2.993233    1243  "
      ]
     },
     "execution_count": 3,
     "metadata": {},
     "output_type": "execute_result"
    }
   ],
   "source": [
    "# type casting\n",
    "df_train.first_day_of_month = pd.to_datetime(df_train.first_day_of_month)\n",
    "\n",
    "# sort data by cfips and first_day_of_month\n",
    "df_train = df_train.sort_values(by=['cfips', 'first_day_of_month'])\n",
    "\n",
    "df_train.head()"
   ]
  },
  {
   "cell_type": "code",
   "execution_count": 4,
   "metadata": {},
   "outputs": [],
   "source": [
    "# select last value only of each county\n",
    "df_lastvalues = df_train.drop_duplicates(subset='cfips', keep='last')\n",
    "cfips2lastvalues = {\n",
    "\tcfips: md for cfips, md in zip(\n",
    "\t\tdf_lastvalues['cfips'], df_lastvalues['microbusiness_density'])}"
   ]
  },
  {
   "cell_type": "markdown",
   "metadata": {},
   "source": [
    "## 2. Forecasting with the Last Known Value with `cfips`\n",
    "\n",
    "Since I used the last known value (2022-10-01) for each county to make forecasts, every instance is predicted with the same value. Clearly, holding an identical value over 8 months may not be realistic. I could compare this approach with other methods like ARIMA (a traditional statistical model), GRU (a time-series deep learning model), or even boosting models (powerful machine learning techniques)."
   ]
  },
  {
   "cell_type": "code",
   "execution_count": 5,
   "metadata": {},
   "outputs": [],
   "source": [
    "# set cfips of each\n",
    "df_submission['cfips'] = df_submission.row_id.apply(lambda x: int(x.split('_')[0]))\n",
    "df_submission['first_day_of_month'] = pd.to_datetime(df_submission.row_id.apply(lambda x: x.split('_')[1]))\n",
    "\n",
    "# set submission with the last value by cfips (forecasts)\n",
    "df_submission.microbusiness_density = df_submission.cfips.map(cfips2lastvalues)"
   ]
  },
  {
   "cell_type": "markdown",
   "metadata": {},
   "source": [
    "## 3. Evaluation\n",
    "\n",
    "I calculuated estimated public and private values since they are no longer testable in this moment."
   ]
  },
  {
   "cell_type": "code",
   "execution_count": 6,
   "metadata": {},
   "outputs": [],
   "source": [
    "def calculate_public_private_score(df_submission, df_test, df_revealed_test):\n",
    "\n",
    "\t# evaluation with pre-define smape\n",
    "\tprivate_smape = SMAPE(\n",
    "\t\tdf_test.microbusiness_density.values, \n",
    "\t\tdf_submission.microbusiness_density.values).item()\n",
    "\tprint(f'estimated private SMAPE: {private_smape:.4f}')\n",
    "\n",
    "\t# select 2022 data only for calculating public score\n",
    "\tsubmission = df_submission[df_submission.first_day_of_month.dt.year == 2022]\n",
    "\n",
    "\t# sort new test data along the order of submission\n",
    "\tsortmap = {val:idx for idx, val in enumerate(df_revealed_test.row_id.values)}\n",
    "\tsubmission['sortmap'] = submission.row_id.map(sortmap)\n",
    "\tsubmission = submission.sort_values('sortmap').drop(columns='sortmap')\n",
    "\t\n",
    "\t# evaluation with pre-define smape\n",
    "\tpublic_smape = SMAPE(\n",
    "\tdf_revealed_test.microbusiness_density.values, \n",
    "\tsubmission.microbusiness_density.values).item()\n",
    "\tprint(f'estimated public SMAPE: {public_smape:.4f}')\n",
    "\n",
    "\treturn public_smape, private_smape"
   ]
  },
  {
   "cell_type": "code",
   "execution_count": null,
   "metadata": {},
   "outputs": [],
   "source": []
  },
  {
   "cell_type": "code",
   "execution_count": 7,
   "metadata": {},
   "outputs": [
    {
     "name": "stdout",
     "output_type": "stream",
     "text": [
      "estimated private SMAPE: 4.5913\n",
      "estimated public SMAPE: 1.7710\n"
     ]
    }
   ],
   "source": [
    "submission = df_submission[~df_submission.cfips.isin([2195, 2275, 15005])]\n",
    "test = df_test[~df_test.microbusiness_density.isna()]\n",
    "revealed_test = df_revealed_test[~df_revealed_test.cfips.isin([2195, 2275, 15005])]\n",
    "\n",
    "public_smape, private_smape = calculate_public_private_score(\n",
    "\tsubmission, test, revealed_test)"
   ]
  },
  {
   "cell_type": "markdown",
   "metadata": {},
   "source": [
    "plain last value forecasts\n",
    "- estimated private SMAPE: 4.5913\n",
    "- estimated public SMAPE: 1.7710\n",
    "\n",
    "The basic last-value forecasting performs well over a short period, such as in 2022, but does not hold up over the long term, covering the entire test period (November 2022 to June 2023). Then, it's time to adjust it!"
   ]
  },
  {
   "cell_type": "markdown",
   "metadata": {},
   "source": [
    "## 4. Adjusting microbusiness density with 2021 census data.\n",
    "\n",
    "I'm saying it again, this entire idea is from [Chris Deotte](https://www.kaggle.com/competitions/godaddy-microbusiness-density-forecasting/discussion/418287).\n",
    "\n",
    "Let's just get back to the definition of `microbusiness_density`. The [Dataset Description](https://www.kaggle.com/competitions/godaddy-microbusiness-density-forecasting/data) says;\n",
    "\n",
    "> `microbusiness_density` - Microbusinesses per 100 people over the age of 18 in the given county. This is the target variable. The population figures used to calculate the density are on a two-year lag due to the pace of update provided by the U.S. Census Bureau, which provides the underlying population data annually. 2021 density figures are calculated using 2019 population figures, etc.\n",
    "\n",
    "This could be translated below with mathmatical expression:\n",
    "\n",
    "> `microbusiness_density` = (the number of microbusinesses) / (the number of adults) * 100\n",
    "\n",
    "Here, <u>the number of microbusinesses</u> is updated in a **monthly** basis but <u>the number of adults</u> is updated yearly and lagged 2 years. This means the target value varies with the those two variables and the change of <u>the number of adults</u> might impact strongly the micro_business density as much as <u>the number of microbusinesses</u>. Luckily we already have the real value of <u>the number of microbusinesses</u>, then we can figure out the impact of the yearly varying variable."
   ]
  },
  {
   "cell_type": "code",
   "execution_count": 8,
   "metadata": {},
   "outputs": [
    {
     "data": {
      "image/png": "[encoded data removed]",
      "text/plain": [
       "<Figure size 2000x400 with 2 Axes>"
      ]
     },
     "metadata": {},
     "output_type": "display_data"
    },
    {
     "data": {
      "image/png": "[encoded data removed]",
      "text/plain": [
       "<Figure size 2000x400 with 2 Axes>"
      ]
     },
     "metadata": {},
     "output_type": "display_data"
    }
   ],
   "source": [
    "import matplotlib.pyplot as plt\n",
    "\n",
    "def draw_density_and_active_by_time(df_train, county):\n",
    "\t\n",
    "\t# select data\n",
    "\tdata = df_train[df_train['cfips'] == county]\n",
    "\n",
    "\tfig, ax = plt.subplots(1,1, figsize=(20,4))\n",
    "\tax.plot(data.first_day_of_month, data.active, color='blue')\n",
    "\tax.set_ylabel('active', color='blue')\n",
    "\tax.tick_params(axis='y', labelcolor='blue')\n",
    "\n",
    "\tax2 = ax.twinx()\n",
    "\tax2.plot(data.first_day_of_month, data.microbusiness_density, color='red')\n",
    "\tax2.set_ylabel('microbusiness_density', color='red')\n",
    "\tax2.tick_params(axis='y', labelcolor='red')\n",
    "\n",
    "\tplt.axvline(x=pd.to_datetime('2020-01-01'), ls='--', color='orange')\n",
    "\tplt.axvline(x=pd.to_datetime('2022-01-01'), ls='--', color='orange')\n",
    "\tplt.title(f'microbusiness density and active by time for {county}')\n",
    "\tplt.show()\n",
    "\n",
    "\n",
    "draw_density_and_active_by_time(df_train, 1003)\n",
    "draw_density_and_active_by_time(df_train, 8049)"
   ]
  },
  {
   "cell_type": "markdown",
   "metadata": {},
   "source": [
    "Based on the above plots, obviously cherry-picked, `active` the number of microbusinesses is maintaining or going up a little, `microbusiness_density` fell down rapidly. This might be influenced by the variation of <u>the number of adults</u> for this county.\n",
    "\n",
    "The above comparison clearly says that we should thorougly consider the change of the number of adults. We actually get to estimate <u>the number of adults</u> over 2017-2020 based on data over 2019-2022. HOWEVER, our target period includes 2023, which needs 2021's <u>the number of adults</u>. Luckily, Chris Deotto has already uploaded the census data on kaggle. All I have to do is to download, transform and apply this dataset to adjust 2023's forecasts."
   ]
  },
  {
   "cell_type": "code",
   "execution_count": 9,
   "metadata": {},
   "outputs": [
    {
     "name": "stdout",
     "output_type": "stream",
     "text": [
      "(3221, 3)\n"
     ]
    },
    {
     "name": "stderr",
     "output_type": "stream",
     "text": [
      "/var/folders/jz/wsn3kwpx7cq0nsrxkk2g7nrr0000gn/T/ipykernel_77103/3539904192.py:3: DtypeWarning: Columns (102) have mixed types. Specify dtype option on import or set low_memory=False.\n",
      "  df2020 = pd.read_csv(\n"
     ]
    },
    {
     "data": {
      "text/html": [
       "<div>\n",
       "<style scoped>\n",
       "    .dataframe tbody tr th:only-of-type {\n",
       "        vertical-align: middle;\n",
       "    }\n",
       "\n",
       "    .dataframe tbody tr th {\n",
       "        vertical-align: top;\n",
       "    }\n",
       "\n",
       "    .dataframe thead th {\n",
       "        text-align: right;\n",
       "    }\n",
       "</style>\n",
       "<table border=\"1\" class=\"dataframe\">\n",
       "  <thead>\n",
       "    <tr style=\"text-align: right;\">\n",
       "      <th></th>\n",
       "      <th>GEO_ID</th>\n",
       "      <th>NAME</th>\n",
       "      <th>S0101_C01_026E</th>\n",
       "    </tr>\n",
       "  </thead>\n",
       "  <tbody>\n",
       "    <tr>\n",
       "      <th>1</th>\n",
       "      <td>0500000US01001</td>\n",
       "      <td>Autauga County, Alabama</td>\n",
       "      <td>42496</td>\n",
       "    </tr>\n",
       "    <tr>\n",
       "      <th>2</th>\n",
       "      <td>0500000US01003</td>\n",
       "      <td>Baldwin County, Alabama</td>\n",
       "      <td>171296</td>\n",
       "    </tr>\n",
       "    <tr>\n",
       "      <th>3</th>\n",
       "      <td>0500000US01005</td>\n",
       "      <td>Barbour County, Alabama</td>\n",
       "      <td>19804</td>\n",
       "    </tr>\n",
       "    <tr>\n",
       "      <th>4</th>\n",
       "      <td>0500000US01007</td>\n",
       "      <td>Bibb County, Alabama</td>\n",
       "      <td>17790</td>\n",
       "    </tr>\n",
       "    <tr>\n",
       "      <th>5</th>\n",
       "      <td>0500000US01009</td>\n",
       "      <td>Blount County, Alabama</td>\n",
       "      <td>44383</td>\n",
       "    </tr>\n",
       "  </tbody>\n",
       "</table>\n",
       "</div>"
      ],
      "text/plain": [
       "           GEO_ID                     NAME  S0101_C01_026E\n",
       "1  0500000US01001  Autauga County, Alabama           42496\n",
       "2  0500000US01003  Baldwin County, Alabama          171296\n",
       "3  0500000US01005  Barbour County, Alabama           19804\n",
       "4  0500000US01007     Bibb County, Alabama           17790\n",
       "5  0500000US01009   Blount County, Alabama           44383"
      ]
     },
     "execution_count": 9,
     "metadata": {},
     "output_type": "execute_result"
    }
   ],
   "source": [
    "# load 2020 dataset\n",
    "COLS = ['GEO_ID','NAME','S0101_C01_026E']\n",
    "df2020 = pd.read_csv(\n",
    "\tos.path.join(data_dir, 'census', 'ACSST5Y2020.S0101-Data.csv'),usecols=COLS\n",
    "\t).iloc[1:]\n",
    "df2020['S0101_C01_026E'] = df2020['S0101_C01_026E'].astype('int')\n",
    "print(df2020.shape)\n",
    "df2020.head()"
   ]
  },
  {
   "cell_type": "code",
   "execution_count": 10,
   "metadata": {},
   "outputs": [
    {
     "name": "stdout",
     "output_type": "stream",
     "text": [
      "(3221, 3)\n"
     ]
    },
    {
     "name": "stderr",
     "output_type": "stream",
     "text": [
      "/var/folders/jz/wsn3kwpx7cq0nsrxkk2g7nrr0000gn/T/ipykernel_77103/2120076165.py:2: DtypeWarning: Columns (102) have mixed types. Specify dtype option on import or set low_memory=False.\n",
      "  df2021 = pd.read_csv(\n"
     ]
    },
    {
     "data": {
      "text/html": [
       "<div>\n",
       "<style scoped>\n",
       "    .dataframe tbody tr th:only-of-type {\n",
       "        vertical-align: middle;\n",
       "    }\n",
       "\n",
       "    .dataframe tbody tr th {\n",
       "        vertical-align: top;\n",
       "    }\n",
       "\n",
       "    .dataframe thead th {\n",
       "        text-align: right;\n",
       "    }\n",
       "</style>\n",
       "<table border=\"1\" class=\"dataframe\">\n",
       "  <thead>\n",
       "    <tr style=\"text-align: right;\">\n",
       "      <th></th>\n",
       "      <th>GEO_ID</th>\n",
       "      <th>NAME</th>\n",
       "      <th>S0101_C01_026E</th>\n",
       "    </tr>\n",
       "  </thead>\n",
       "  <tbody>\n",
       "    <tr>\n",
       "      <th>1</th>\n",
       "      <td>0500000US01001</td>\n",
       "      <td>Autauga County, Alabama</td>\n",
       "      <td>44438</td>\n",
       "    </tr>\n",
       "    <tr>\n",
       "      <th>2</th>\n",
       "      <td>0500000US01003</td>\n",
       "      <td>Baldwin County, Alabama</td>\n",
       "      <td>178105</td>\n",
       "    </tr>\n",
       "    <tr>\n",
       "      <th>3</th>\n",
       "      <td>0500000US01005</td>\n",
       "      <td>Barbour County, Alabama</td>\n",
       "      <td>19995</td>\n",
       "    </tr>\n",
       "    <tr>\n",
       "      <th>4</th>\n",
       "      <td>0500000US01007</td>\n",
       "      <td>Bibb County, Alabama</td>\n",
       "      <td>17800</td>\n",
       "    </tr>\n",
       "    <tr>\n",
       "      <th>5</th>\n",
       "      <td>0500000US01009</td>\n",
       "      <td>Blount County, Alabama</td>\n",
       "      <td>45201</td>\n",
       "    </tr>\n",
       "  </tbody>\n",
       "</table>\n",
       "</div>"
      ],
      "text/plain": [
       "           GEO_ID                     NAME  S0101_C01_026E\n",
       "1  0500000US01001  Autauga County, Alabama           44438\n",
       "2  0500000US01003  Baldwin County, Alabama          178105\n",
       "3  0500000US01005  Barbour County, Alabama           19995\n",
       "4  0500000US01007     Bibb County, Alabama           17800\n",
       "5  0500000US01009   Blount County, Alabama           45201"
      ]
     },
     "execution_count": 10,
     "metadata": {},
     "output_type": "execute_result"
    }
   ],
   "source": [
    "# load 2021 dataset\n",
    "df2021 = pd.read_csv(\n",
    "\tos.path.join(data_dir, 'census', 'ACSST5Y2021.S0101-Data.csv'), usecols=COLS\n",
    "\t).iloc[1:]\n",
    "df2021['S0101_C01_026E'] = df2021['S0101_C01_026E'].astype('int')\n",
    "print(df2021.shape)\n",
    "df2021.head()"
   ]
  },
  {
   "cell_type": "code",
   "execution_count": 11,
   "metadata": {},
   "outputs": [],
   "source": [
    "# extract cfips from GEO_ID\n",
    "df2020['cfips'] = df2020.GEO_ID.apply(lambda x: int(x.split('US')[-1]) )\n",
    "adult2020 = df2020.set_index('cfips').S0101_C01_026E.to_dict()\n",
    "\n",
    "df2021['cfips'] = df2021.GEO_ID.apply(lambda x: int(x.split('US')[-1]) )\n",
    "adult2021 = df2021.set_index('cfips').S0101_C01_026E.to_dict()"
   ]
  },
  {
   "cell_type": "code",
   "execution_count": 12,
   "metadata": {},
   "outputs": [
    {
     "data": {
      "text/html": [
       "<div>\n",
       "<style scoped>\n",
       "    .dataframe tbody tr th:only-of-type {\n",
       "        vertical-align: middle;\n",
       "    }\n",
       "\n",
       "    .dataframe tbody tr th {\n",
       "        vertical-align: top;\n",
       "    }\n",
       "\n",
       "    .dataframe thead th {\n",
       "        text-align: right;\n",
       "    }\n",
       "</style>\n",
       "<table border=\"1\" class=\"dataframe\">\n",
       "  <thead>\n",
       "    <tr style=\"text-align: right;\">\n",
       "      <th></th>\n",
       "      <th>row_id</th>\n",
       "      <th>microbusiness_density</th>\n",
       "      <th>cfips</th>\n",
       "      <th>first_day_of_month</th>\n",
       "      <th>adult2020</th>\n",
       "      <th>adult2021</th>\n",
       "    </tr>\n",
       "  </thead>\n",
       "  <tbody>\n",
       "    <tr>\n",
       "      <th>0</th>\n",
       "      <td>1001_2022-11-01</td>\n",
       "      <td>3.463856</td>\n",
       "      <td>1001</td>\n",
       "      <td>2022-11-01</td>\n",
       "      <td>42496</td>\n",
       "      <td>44438</td>\n",
       "    </tr>\n",
       "    <tr>\n",
       "      <th>1</th>\n",
       "      <td>1003_2022-11-01</td>\n",
       "      <td>8.359798</td>\n",
       "      <td>1003</td>\n",
       "      <td>2022-11-01</td>\n",
       "      <td>171296</td>\n",
       "      <td>178105</td>\n",
       "    </tr>\n",
       "    <tr>\n",
       "      <th>2</th>\n",
       "      <td>1005_2022-11-01</td>\n",
       "      <td>1.232074</td>\n",
       "      <td>1005</td>\n",
       "      <td>2022-11-01</td>\n",
       "      <td>19804</td>\n",
       "      <td>19995</td>\n",
       "    </tr>\n",
       "    <tr>\n",
       "      <th>3</th>\n",
       "      <td>1007_2022-11-01</td>\n",
       "      <td>1.287240</td>\n",
       "      <td>1007</td>\n",
       "      <td>2022-11-01</td>\n",
       "      <td>17790</td>\n",
       "      <td>17800</td>\n",
       "    </tr>\n",
       "    <tr>\n",
       "      <th>4</th>\n",
       "      <td>1009_2022-11-01</td>\n",
       "      <td>1.831783</td>\n",
       "      <td>1009</td>\n",
       "      <td>2022-11-01</td>\n",
       "      <td>44383</td>\n",
       "      <td>45201</td>\n",
       "    </tr>\n",
       "  </tbody>\n",
       "</table>\n",
       "</div>"
      ],
      "text/plain": [
       "            row_id  microbusiness_density  cfips first_day_of_month  \\\n",
       "0  1001_2022-11-01               3.463856   1001         2022-11-01   \n",
       "1  1003_2022-11-01               8.359798   1003         2022-11-01   \n",
       "2  1005_2022-11-01               1.232074   1005         2022-11-01   \n",
       "3  1007_2022-11-01               1.287240   1007         2022-11-01   \n",
       "4  1009_2022-11-01               1.831783   1009         2022-11-01   \n",
       "\n",
       "   adult2020  adult2021  \n",
       "0      42496      44438  \n",
       "1     171296     178105  \n",
       "2      19804      19995  \n",
       "3      17790      17800  \n",
       "4      44383      45201  "
      ]
     },
     "execution_count": 12,
     "metadata": {},
     "output_type": "execute_result"
    }
   ],
   "source": [
    "# map census with its county\n",
    "df_submission['adult2020'] = df_submission.cfips.map(adult2020)\n",
    "df_submission['adult2021'] = df_submission.cfips.map(adult2021)\n",
    "df_submission.head()"
   ]
  },
  {
   "cell_type": "markdown",
   "metadata": {},
   "source": [
    "I restrictively adjusted 2023 `microbusiness_density` forecasts with 2021 adult population."
   ]
  },
  {
   "cell_type": "code",
   "execution_count": 13,
   "metadata": {},
   "outputs": [],
   "source": [
    "df_submission['adjusted_microbusiness_density'] = df_submission['microbusiness_density'].copy()\n",
    "\n",
    "# filter 2023 data only\n",
    "mask_2023 = df_submission['first_day_of_month'].dt.year == 2023\n",
    "\n",
    "# adjust 2023 forecasts with 2021 census\n",
    "df_submission.loc[mask_2023, 'adjusted_microbusiness_density'] = \\\n",
    "\tdf_submission.loc[mask_2023, 'microbusiness_density'] * df_submission.loc[mask_2023, 'adult2020'] / df_submission.loc[mask_2023, 'adult2021']"
   ]
  },
  {
   "cell_type": "markdown",
   "metadata": {},
   "source": [
    "To compare Chris Deotte’s implementation with mine, I also created `adjusted_microbusiness_density_all`, which adjusts all densities using the 2021 population, rather than applying a different population for each year."
   ]
  },
  {
   "cell_type": "code",
   "execution_count": 14,
   "metadata": {},
   "outputs": [],
   "source": [
    "# adjust all forecasts with 2021 census\n",
    "df_submission['adjusted_microbusiness_density_all'] = df_submission['microbusiness_density'] * df_submission['adult2020'] / df_submission['adult2021']"
   ]
  },
  {
   "cell_type": "code",
   "execution_count": 15,
   "metadata": {},
   "outputs": [
    {
     "name": "stdout",
     "output_type": "stream",
     "text": [
      "estimated plain SMAPE: 4.5913\n",
      "estimated adjusted 2023only SMAPE: 3.8440\n",
      "estimated adjusted all SMAPE: 4.2845\n"
     ]
    }
   ],
   "source": [
    "# evaluation\n",
    "## reconstructed test data includes NaN for 3 counties [2195, 2275, 15005] which need to be excluded for evaluation\n",
    "submission = df_submission[~df_submission.cfips.isin([2195, 2275, 15005])]\n",
    "test = df_test[~df_test.microbusiness_density.isna()]\n",
    "revealed_test = df_revealed_test[~df_revealed_test.cfips.isin([2195, 2275, 15005])]\n",
    "\n",
    "# evaluation with pre-define smape\n",
    "private_smape = SMAPE(\n",
    "\ttest.microbusiness_density.values, \n",
    "\tsubmission.microbusiness_density.values).item()\n",
    "print(f'estimated plain SMAPE: {private_smape:.4f}') # 4.5913\n",
    "\n",
    "private_smape = SMAPE(\n",
    "\ttest.microbusiness_density.values, \n",
    "\tsubmission.adjusted_microbusiness_density.values).item()\n",
    "print(f'estimated adjusted 2023only SMAPE: {private_smape:.4f}') # 3.8440\n",
    "\n",
    "private_smape = SMAPE(\n",
    "\ttest.microbusiness_density.values, \n",
    "\tsubmission.adjusted_microbusiness_density_all.values).item()\n",
    "print(f'estimated adjusted all SMAPE: {private_smape:.4f}') # 4.2845"
   ]
  },
  {
   "cell_type": "markdown",
   "metadata": {},
   "source": [
    "Evaluation Results\n",
    "- estimated plain SMAPE: 4.5913\n",
    "- estimated adjusted 2023only SMAPE: 3.8440\n",
    "- estimated adjusted all SMAPE: 4.2845\n",
    "\n",
    "FYI, private LB (88% of the test data)\n",
    "- 1st place: 3.7877\n",
    "- 10st place: 3.8827\n",
    "- 354st place: 4.1288\n",
    "- Chris Deotte came in 3rd place with SMAPE: 3.8405 (adjusted all). He might be ranked higher than 3rd if he adjusted 2023 forecasts only."
   ]
  },
  {
   "cell_type": "markdown",
   "metadata": {},
   "source": [
    "The code below was used to compare each experiment across different years."
   ]
  },
  {
   "cell_type": "code",
   "execution_count": 16,
   "metadata": {},
   "outputs": [
    {
     "name": "stdout",
     "output_type": "stream",
     "text": [
      "estimated plain SMAPE: 5.6135\n",
      "estimated adjusted 2023only SMAPE: 4.6172\n",
      "estimated adjusted all SMAPE: 4.6172\n"
     ]
    }
   ],
   "source": [
    "# evaluation with pre-define smape\n",
    "mask_2023 = df_submission['first_day_of_month'].dt.year == 2023\n",
    "\n",
    "private_smape = SMAPE(\n",
    "\ttest.loc[mask_2023, 'microbusiness_density'].values, \n",
    "\tsubmission.loc[mask_2023, 'microbusiness_density'].values).item()\n",
    "print(f'estimated plain SMAPE: {private_smape:.4f}') # 5.6135\n",
    " \n",
    "private_smape = SMAPE(\n",
    "\ttest.loc[mask_2023, 'microbusiness_density'].values, \n",
    "\tsubmission.loc[mask_2023, 'adjusted_microbusiness_density'].values).item()\n",
    "print(f'estimated adjusted 2023only SMAPE: {private_smape:.4f}') # 4.6172\n",
    "\n",
    "private_smape = SMAPE(\n",
    "\ttest.loc[mask_2023, 'microbusiness_density'].values, \n",
    "\tsubmission.loc[mask_2023, 'adjusted_microbusiness_density_all'].values).item()\n",
    "print(f'estimated adjusted all SMAPE: {private_smape:.4f}') # 4.6172"
   ]
  },
  {
   "cell_type": "code",
   "execution_count": 17,
   "metadata": {},
   "outputs": [
    {
     "name": "stdout",
     "output_type": "stream",
     "text": [
      "estimated plain SMAPE: 1.5246\n",
      "estimated adjusted 2023only SMAPE: 1.5246\n",
      "estimated adjusted all SMAPE: 3.2863\n"
     ]
    }
   ],
   "source": [
    "# evaluation with pre-define smape\n",
    "# sort new test data along the order of submission\n",
    "sortmap = {val:idx for idx, val in enumerate(df_test.row_id.values)}\n",
    "df_submission['sortmap'] = df_submission.row_id.map(sortmap)\n",
    "df_submission = df_submission.sort_values('sortmap').drop(columns='sortmap')\n",
    "\n",
    "mask_2022 = df_submission['first_day_of_month'].dt.year == 2022\n",
    "\n",
    "private_smape = SMAPE(\n",
    "\ttest.loc[mask_2022, 'microbusiness_density'].values, \n",
    "\tsubmission.loc[mask_2022, 'microbusiness_density'].values).item()\n",
    "print(f'estimated plain SMAPE: {private_smape:.4f}') # 1.5246\n",
    "\n",
    "private_smape = SMAPE(\n",
    "\ttest.loc[mask_2022, 'microbusiness_density'].values, \n",
    "\tsubmission.loc[mask_2022, 'adjusted_microbusiness_density'].values).item()\n",
    "print(f'estimated adjusted 2023only SMAPE: {private_smape:.4f}') # 1.5246\n",
    "\n",
    "private_smape = SMAPE(\n",
    "\ttest.loc[mask_2022, 'microbusiness_density'].values, \n",
    "\tsubmission.loc[mask_2022, 'adjusted_microbusiness_density_all'].values).item()\n",
    "print(f'estimated adjusted all SMAPE: {private_smape:.4f}') # 3.2863"
   ]
  },
  {
   "cell_type": "markdown",
   "metadata": {},
   "source": [
    "# Conclusion\n",
    "\n",
    "Forecasting with the last known value exceeded expectations. To understand why this simple approach performed well and to further improve forecasting accuracy, I plan to implement and analyze other methods, such as ARIMA (a traditional statistical model), GRU (a time-series deep learning model), and boosting models (powerful machine learning techniques)."
   ]
  }
 ],
 "metadata": {
  "kernelspec": {
   "display_name": "godaddy",
   "language": "python",
   "name": "python3"
  },
  "language_info": {
   "codemirror_mode": {
    "name": "ipython",
    "version": 3
   },
   "file_extension": ".py",
   "mimetype": "text/x-python",
   "name": "python",
   "nbconvert_exporter": "python",
   "pygments_lexer": "ipython3",
   "version": "3.10.0"
  }
 },
 "nbformat": 4,
 "nbformat_minor": 2
}
