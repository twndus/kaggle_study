{
 "cells": [
  {
   "cell_type": "markdown",
   "metadata": {},
   "source": [
    "# 1.1. Baseline - The Last Value is All You Need\n",
    "\n",
    "Forecasting microbusiness density for 3,154 counties over 8 months is a challenging task. Inspired by [Chris Deotte](https://www.kaggle.com/competitions/godaddy-microbusiness-density-forecasting/discussion/418287)'s simple yet effective approach, I'm starting with a straightforward method: using the last known value for each county. This baseline approach, adjusted with open census data, has proven powerful without needing complex mathematical models or training steps. All we need is the latest recorded microbusiness density for each county."
   ]
  },
  {
   "cell_type": "code",
   "execution_count": 1,
   "metadata": {},
   "outputs": [],
   "source": [
    "import os, datetime\n",
    "from tqdm import tqdm\n",
    "\n",
    "import numpy as np\n",
    "import pandas as pd"
   ]
  },
  {
   "cell_type": "code",
   "execution_count": 2,
   "metadata": {},
   "outputs": [],
   "source": [
    "data_dir = '../data/'\n",
    "\n",
    "# train data\n",
    "df_train = pd.read_csv(os.path.join(data_dir, 'train.csv'))\n",
    "df_revealed_test = pd.read_csv(os.path.join(data_dir, 'revealed_test.csv'))\n",
    "df_submission = pd.read_csv(os.path.join(data_dir, 'sample_submission.csv'))\n",
    "df_census = pd.read_csv(os.path.join(data_dir, 'census_starter.csv'))\n",
    "\n",
    "# test data\n",
    "df_test = pd.read_csv(os.path.join(data_dir, 'all_revealed_test.csv'))"
   ]
  },
  {
   "cell_type": "markdown",
   "metadata": {},
   "source": [
    "## 1. yield last know value of each county"
   ]
  },
  {
   "cell_type": "code",
   "execution_count": 3,
   "metadata": {},
   "outputs": [
    {
     "data": {
      "text/html": [
       "<div>\n",
       "<style scoped>\n",
       "    .dataframe tbody tr th:only-of-type {\n",
       "        vertical-align: middle;\n",
       "    }\n",
       "\n",
       "    .dataframe tbody tr th {\n",
       "        vertical-align: top;\n",
       "    }\n",
       "\n",
       "    .dataframe thead th {\n",
       "        text-align: right;\n",
       "    }\n",
       "</style>\n",
       "<table border=\"1\" class=\"dataframe\">\n",
       "  <thead>\n",
       "    <tr style=\"text-align: right;\">\n",
       "      <th></th>\n",
       "      <th>row_id</th>\n",
       "      <th>cfips</th>\n",
       "      <th>county</th>\n",
       "      <th>state</th>\n",
       "      <th>first_day_of_month</th>\n",
       "      <th>microbusiness_density</th>\n",
       "      <th>active</th>\n",
       "    </tr>\n",
       "  </thead>\n",
       "  <tbody>\n",
       "    <tr>\n",
       "      <th>0</th>\n",
       "      <td>1001_2019-08-01</td>\n",
       "      <td>1001</td>\n",
       "      <td>Autauga County</td>\n",
       "      <td>Alabama</td>\n",
       "      <td>2019-08-01</td>\n",
       "      <td>3.007682</td>\n",
       "      <td>1249</td>\n",
       "    </tr>\n",
       "    <tr>\n",
       "      <th>1</th>\n",
       "      <td>1001_2019-09-01</td>\n",
       "      <td>1001</td>\n",
       "      <td>Autauga County</td>\n",
       "      <td>Alabama</td>\n",
       "      <td>2019-09-01</td>\n",
       "      <td>2.884870</td>\n",
       "      <td>1198</td>\n",
       "    </tr>\n",
       "    <tr>\n",
       "      <th>2</th>\n",
       "      <td>1001_2019-10-01</td>\n",
       "      <td>1001</td>\n",
       "      <td>Autauga County</td>\n",
       "      <td>Alabama</td>\n",
       "      <td>2019-10-01</td>\n",
       "      <td>3.055843</td>\n",
       "      <td>1269</td>\n",
       "    </tr>\n",
       "    <tr>\n",
       "      <th>3</th>\n",
       "      <td>1001_2019-11-01</td>\n",
       "      <td>1001</td>\n",
       "      <td>Autauga County</td>\n",
       "      <td>Alabama</td>\n",
       "      <td>2019-11-01</td>\n",
       "      <td>2.993233</td>\n",
       "      <td>1243</td>\n",
       "    </tr>\n",
       "    <tr>\n",
       "      <th>4</th>\n",
       "      <td>1001_2019-12-01</td>\n",
       "      <td>1001</td>\n",
       "      <td>Autauga County</td>\n",
       "      <td>Alabama</td>\n",
       "      <td>2019-12-01</td>\n",
       "      <td>2.993233</td>\n",
       "      <td>1243</td>\n",
       "    </tr>\n",
       "  </tbody>\n",
       "</table>\n",
       "</div>"
      ],
      "text/plain": [
       "            row_id  cfips          county    state first_day_of_month  \\\n",
       "0  1001_2019-08-01   1001  Autauga County  Alabama         2019-08-01   \n",
       "1  1001_2019-09-01   1001  Autauga County  Alabama         2019-09-01   \n",
       "2  1001_2019-10-01   1001  Autauga County  Alabama         2019-10-01   \n",
       "3  1001_2019-11-01   1001  Autauga County  Alabama         2019-11-01   \n",
       "4  1001_2019-12-01   1001  Autauga County  Alabama         2019-12-01   \n",
       "\n",
       "   microbusiness_density  active  \n",
       "0               3.007682    1249  \n",
       "1               2.884870    1198  \n",
       "2               3.055843    1269  \n",
       "3               2.993233    1243  \n",
       "4               2.993233    1243  "
      ]
     },
     "execution_count": 3,
     "metadata": {},
     "output_type": "execute_result"
    }
   ],
   "source": [
    "# type casting\n",
    "df_train.first_day_of_month = pd.to_datetime(df_train.first_day_of_month)\n",
    "\n",
    "# sort data by cfips and first_day_of_month\n",
    "df_train = df_train.sort_values(by=['cfips', 'first_day_of_month'])\n",
    "\n",
    "df_train.head()"
   ]
  },
  {
   "cell_type": "code",
   "execution_count": 4,
   "metadata": {},
   "outputs": [],
   "source": [
    "# select last value only of each county\n",
    "df_lastvalues = df_train.drop_duplicates(subset='cfips', keep='last')\n",
    "cfips2lastvalues = {\n",
    "\tcfips: md for cfips, md in zip(\n",
    "\t\tdf_lastvalues['cfips'], df_lastvalues['microbusiness_density'])}"
   ]
  },
  {
   "cell_type": "code",
   "execution_count": 6,
   "metadata": {},
   "outputs": [],
   "source": [
    "# set cfips of each \n",
    "df_submission['cfips'] = df_submission.row_id.apply(lambda x: int(x.split('_')[0]))\n",
    "df_submission['first_day_of_month'] = pd.to_datetime(df_submission.row_id.apply(lambda x: x.split('_')[1]))"
   ]
  },
  {
   "cell_type": "code",
   "execution_count": 7,
   "metadata": {},
   "outputs": [],
   "source": [
    "# set submission with the last value\n",
    "df_submission.microbusiness_density = df_submission.cfips.map(cfips2lastvalues)"
   ]
  },
  {
   "cell_type": "code",
   "execution_count": 22,
   "metadata": {},
   "outputs": [
    {
     "data": {
      "text/plain": [
       "5.083047455230122"
      ]
     },
     "execution_count": 22,
     "metadata": {},
     "output_type": "execute_result"
    }
   ],
   "source": [
    "from utils import SMAPE\n",
    "\n",
    "smape_value = SMAPE(\n",
    "\tdf_test.microbusiness_density.values, \n",
    "\tdf_submission.microbusiness_density.values).item()\n",
    "smape_value"
   ]
  },
  {
   "cell_type": "markdown",
   "metadata": {},
   "source": [
    "public score"
   ]
  },
  {
   "cell_type": "code",
   "execution_count": 23,
   "metadata": {},
   "outputs": [],
   "source": [
    "submission = df_submission[df_submission.first_day_of_month.dt.year == 2022]"
   ]
  },
  {
   "cell_type": "code",
   "execution_count": 24,
   "metadata": {},
   "outputs": [
    {
     "name": "stderr",
     "output_type": "stream",
     "text": [
      "/var/folders/jz/wsn3kwpx7cq0nsrxkk2g7nrr0000gn/T/ipykernel_47738/507135792.py:3: SettingWithCopyWarning: \n",
      "A value is trying to be set on a copy of a slice from a DataFrame.\n",
      "Try using .loc[row_indexer,col_indexer] = value instead\n",
      "\n",
      "See the caveats in the documentation: https://pandas.pydata.org/pandas-docs/stable/user_guide/indexing.html#returning-a-view-versus-a-copy\n",
      "  submission['sortmap'] = submission.row_id.map(sortmap)\n"
     ]
    }
   ],
   "source": [
    "# sort new test data along the order of submission\n",
    "sortmap = {val:idx for idx, val in enumerate(df_revealed_test.row_id.values)}\n",
    "submission['sortmap'] = submission.row_id.map(sortmap)\n",
    "submission = submission.sort_values('sortmap').drop(columns='sortmap')"
   ]
  },
  {
   "cell_type": "code",
   "execution_count": null,
   "metadata": {},
   "outputs": [
    {
     "data": {
      "text/plain": [
       "1.7862393745117036"
      ]
     },
     "execution_count": 25,
     "metadata": {},
     "output_type": "execute_result"
    }
   ],
   "source": [
    "smape_value = SMAPE(\n",
    "\tdf_revealed_test.microbusiness_density.values, \n",
    "\tsubmission.microbusiness_density.values).item()\n",
    "smape_value"
   ]
  },
  {
   "cell_type": "markdown",
   "metadata": {},
   "source": [
    "The most basic last value forecasting outperforms in short period of time like only 2022 but not good in a long term like all test period (2022nov-2023june)"
   ]
  },
  {
   "cell_type": "markdown",
   "metadata": {},
   "source": [
    "# Adjusting microbusiness density with 2021 census data\n",
    "\n",
    "Based on this notebook, 2023 density will refer 2021 census to calculate its value.\n",
    "\n",
    "\n",
    "Given that `microbusiness_density` is the number of `activate` per 100 adults in the county, we are able to estimate the number of adults in the county with `activate` values. \n",
    "\n",
    "> `microbusiness_density` = `activate` / (the number of adults) * 100\n",
    "\n",
    "Furthermore, since the number of adults are lagged by 2 years, we are able to apply 2023 microbusiness density adjusted by the number of adults 2021, instead of 2020. Referring to this notebook \n"
   ]
  },
  {
   "cell_type": "code",
   "execution_count": null,
   "metadata": {},
   "outputs": [
    {
     "name": "stdout",
     "output_type": "stream",
     "text": [
      "(3221, 3)\n"
     ]
    },
    {
     "name": "stderr",
     "output_type": "stream",
     "text": [
      "/var/folders/jz/wsn3kwpx7cq0nsrxkk2g7nrr0000gn/T/ipykernel_47738/3753530207.py:2: DtypeWarning: Columns (102) have mixed types. Specify dtype option on import or set low_memory=False.\n",
      "  df2020 = pd.read_csv(os.path.join(data_dir, 'census', 'ACSST5Y2020.S0101-Data.csv'),usecols=COLS).iloc[1:]\n"
     ]
    },
    {
     "data": {
      "text/html": [
       "<div>\n",
       "<style scoped>\n",
       "    .dataframe tbody tr th:only-of-type {\n",
       "        vertical-align: middle;\n",
       "    }\n",
       "\n",
       "    .dataframe tbody tr th {\n",
       "        vertical-align: top;\n",
       "    }\n",
       "\n",
       "    .dataframe thead th {\n",
       "        text-align: right;\n",
       "    }\n",
       "</style>\n",
       "<table border=\"1\" class=\"dataframe\">\n",
       "  <thead>\n",
       "    <tr style=\"text-align: right;\">\n",
       "      <th></th>\n",
       "      <th>GEO_ID</th>\n",
       "      <th>NAME</th>\n",
       "      <th>S0101_C01_026E</th>\n",
       "    </tr>\n",
       "  </thead>\n",
       "  <tbody>\n",
       "    <tr>\n",
       "      <th>1</th>\n",
       "      <td>0500000US01001</td>\n",
       "      <td>Autauga County, Alabama</td>\n",
       "      <td>42496</td>\n",
       "    </tr>\n",
       "    <tr>\n",
       "      <th>2</th>\n",
       "      <td>0500000US01003</td>\n",
       "      <td>Baldwin County, Alabama</td>\n",
       "      <td>171296</td>\n",
       "    </tr>\n",
       "    <tr>\n",
       "      <th>3</th>\n",
       "      <td>0500000US01005</td>\n",
       "      <td>Barbour County, Alabama</td>\n",
       "      <td>19804</td>\n",
       "    </tr>\n",
       "    <tr>\n",
       "      <th>4</th>\n",
       "      <td>0500000US01007</td>\n",
       "      <td>Bibb County, Alabama</td>\n",
       "      <td>17790</td>\n",
       "    </tr>\n",
       "    <tr>\n",
       "      <th>5</th>\n",
       "      <td>0500000US01009</td>\n",
       "      <td>Blount County, Alabama</td>\n",
       "      <td>44383</td>\n",
       "    </tr>\n",
       "  </tbody>\n",
       "</table>\n",
       "</div>"
      ],
      "text/plain": [
       "           GEO_ID                     NAME  S0101_C01_026E\n",
       "1  0500000US01001  Autauga County, Alabama           42496\n",
       "2  0500000US01003  Baldwin County, Alabama          171296\n",
       "3  0500000US01005  Barbour County, Alabama           19804\n",
       "4  0500000US01007     Bibb County, Alabama           17790\n",
       "5  0500000US01009   Blount County, Alabama           44383"
      ]
     },
     "execution_count": 29,
     "metadata": {},
     "output_type": "execute_result"
    }
   ],
   "source": [
    "COLS = ['GEO_ID','NAME','S0101_C01_026E']\n",
    "df2020 = pd.read_csv(\n",
    "\tos.path.join(data_dir, 'census', 'ACSST5Y2020.S0101-Data.csv'),usecols=COLS\n",
    "\t).iloc[1:]\n",
    "df2020['S0101_C01_026E'] = df2020['S0101_C01_026E'].astype('int')\n",
    "print(df2020.shape)\n",
    "df2020.head()"
   ]
  },
  {
   "cell_type": "code",
   "execution_count": null,
   "metadata": {},
   "outputs": [
    {
     "name": "stdout",
     "output_type": "stream",
     "text": [
      "(3221, 3)\n"
     ]
    },
    {
     "name": "stderr",
     "output_type": "stream",
     "text": [
      "/var/folders/jz/wsn3kwpx7cq0nsrxkk2g7nrr0000gn/T/ipykernel_47738/2118765059.py:1: DtypeWarning: Columns (102) have mixed types. Specify dtype option on import or set low_memory=False.\n",
      "  df2021 = pd.read_csv(os.path.join(data_dir, 'census', 'ACSST5Y2021.S0101-Data.csv'), usecols=COLS).iloc[1:]\n"
     ]
    },
    {
     "data": {
      "text/html": [
       "<div>\n",
       "<style scoped>\n",
       "    .dataframe tbody tr th:only-of-type {\n",
       "        vertical-align: middle;\n",
       "    }\n",
       "\n",
       "    .dataframe tbody tr th {\n",
       "        vertical-align: top;\n",
       "    }\n",
       "\n",
       "    .dataframe thead th {\n",
       "        text-align: right;\n",
       "    }\n",
       "</style>\n",
       "<table border=\"1\" class=\"dataframe\">\n",
       "  <thead>\n",
       "    <tr style=\"text-align: right;\">\n",
       "      <th></th>\n",
       "      <th>GEO_ID</th>\n",
       "      <th>NAME</th>\n",
       "      <th>S0101_C01_026E</th>\n",
       "    </tr>\n",
       "  </thead>\n",
       "  <tbody>\n",
       "    <tr>\n",
       "      <th>1</th>\n",
       "      <td>0500000US01001</td>\n",
       "      <td>Autauga County, Alabama</td>\n",
       "      <td>44438</td>\n",
       "    </tr>\n",
       "    <tr>\n",
       "      <th>2</th>\n",
       "      <td>0500000US01003</td>\n",
       "      <td>Baldwin County, Alabama</td>\n",
       "      <td>178105</td>\n",
       "    </tr>\n",
       "    <tr>\n",
       "      <th>3</th>\n",
       "      <td>0500000US01005</td>\n",
       "      <td>Barbour County, Alabama</td>\n",
       "      <td>19995</td>\n",
       "    </tr>\n",
       "    <tr>\n",
       "      <th>4</th>\n",
       "      <td>0500000US01007</td>\n",
       "      <td>Bibb County, Alabama</td>\n",
       "      <td>17800</td>\n",
       "    </tr>\n",
       "    <tr>\n",
       "      <th>5</th>\n",
       "      <td>0500000US01009</td>\n",
       "      <td>Blount County, Alabama</td>\n",
       "      <td>45201</td>\n",
       "    </tr>\n",
       "  </tbody>\n",
       "</table>\n",
       "</div>"
      ],
      "text/plain": [
       "           GEO_ID                     NAME  S0101_C01_026E\n",
       "1  0500000US01001  Autauga County, Alabama           44438\n",
       "2  0500000US01003  Baldwin County, Alabama          178105\n",
       "3  0500000US01005  Barbour County, Alabama           19995\n",
       "4  0500000US01007     Bibb County, Alabama           17800\n",
       "5  0500000US01009   Blount County, Alabama           45201"
      ]
     },
     "execution_count": 30,
     "metadata": {},
     "output_type": "execute_result"
    }
   ],
   "source": [
    "df2021 = pd.read_csv(\n",
    "\tos.path.join(data_dir, 'census', 'ACSST5Y2021.S0101-Data.csv'), usecols=COLS\n",
    "\t).iloc[1:]\n",
    "df2021['S0101_C01_026E'] = df2021['S0101_C01_026E'].astype('int')\n",
    "print(df2021.shape)\n",
    "df2021.head()"
   ]
  },
  {
   "cell_type": "code",
   "execution_count": 31,
   "metadata": {},
   "outputs": [],
   "source": [
    "df2020['cfips'] = df2020.GEO_ID.apply(lambda x: int(x.split('US')[-1]) )\n",
    "adult2020 = df2020.set_index('cfips').S0101_C01_026E.to_dict()\n",
    "\n",
    "df2021['cfips'] = df2021.GEO_ID.apply(lambda x: int(x.split('US')[-1]) )\n",
    "adult2021 = df2021.set_index('cfips').S0101_C01_026E.to_dict()"
   ]
  },
  {
   "cell_type": "code",
   "execution_count": 33,
   "metadata": {},
   "outputs": [
    {
     "data": {
      "text/html": [
       "<div>\n",
       "<style scoped>\n",
       "    .dataframe tbody tr th:only-of-type {\n",
       "        vertical-align: middle;\n",
       "    }\n",
       "\n",
       "    .dataframe tbody tr th {\n",
       "        vertical-align: top;\n",
       "    }\n",
       "\n",
       "    .dataframe thead th {\n",
       "        text-align: right;\n",
       "    }\n",
       "</style>\n",
       "<table border=\"1\" class=\"dataframe\">\n",
       "  <thead>\n",
       "    <tr style=\"text-align: right;\">\n",
       "      <th></th>\n",
       "      <th>row_id</th>\n",
       "      <th>microbusiness_density</th>\n",
       "      <th>cfips</th>\n",
       "      <th>first_day_of_month</th>\n",
       "      <th>adult2020</th>\n",
       "      <th>adult2021</th>\n",
       "      <th>adjusted_microbusiness_density</th>\n",
       "    </tr>\n",
       "  </thead>\n",
       "  <tbody>\n",
       "    <tr>\n",
       "      <th>0</th>\n",
       "      <td>1001_2022-11-01</td>\n",
       "      <td>3.463856</td>\n",
       "      <td>1001</td>\n",
       "      <td>2022-11-01</td>\n",
       "      <td>42496</td>\n",
       "      <td>44438</td>\n",
       "      <td>3.312480</td>\n",
       "    </tr>\n",
       "    <tr>\n",
       "      <th>1</th>\n",
       "      <td>1003_2022-11-01</td>\n",
       "      <td>8.359798</td>\n",
       "      <td>1003</td>\n",
       "      <td>2022-11-01</td>\n",
       "      <td>171296</td>\n",
       "      <td>178105</td>\n",
       "      <td>8.040201</td>\n",
       "    </tr>\n",
       "    <tr>\n",
       "      <th>2</th>\n",
       "      <td>1005_2022-11-01</td>\n",
       "      <td>1.232074</td>\n",
       "      <td>1005</td>\n",
       "      <td>2022-11-01</td>\n",
       "      <td>19804</td>\n",
       "      <td>19995</td>\n",
       "      <td>1.220305</td>\n",
       "    </tr>\n",
       "    <tr>\n",
       "      <th>3</th>\n",
       "      <td>1007_2022-11-01</td>\n",
       "      <td>1.287240</td>\n",
       "      <td>1007</td>\n",
       "      <td>2022-11-01</td>\n",
       "      <td>17790</td>\n",
       "      <td>17800</td>\n",
       "      <td>1.286517</td>\n",
       "    </tr>\n",
       "    <tr>\n",
       "      <th>4</th>\n",
       "      <td>1009_2022-11-01</td>\n",
       "      <td>1.831783</td>\n",
       "      <td>1009</td>\n",
       "      <td>2022-11-01</td>\n",
       "      <td>44383</td>\n",
       "      <td>45201</td>\n",
       "      <td>1.798633</td>\n",
       "    </tr>\n",
       "  </tbody>\n",
       "</table>\n",
       "</div>"
      ],
      "text/plain": [
       "            row_id  microbusiness_density  cfips first_day_of_month  \\\n",
       "0  1001_2022-11-01               3.463856   1001         2022-11-01   \n",
       "1  1003_2022-11-01               8.359798   1003         2022-11-01   \n",
       "2  1005_2022-11-01               1.232074   1005         2022-11-01   \n",
       "3  1007_2022-11-01               1.287240   1007         2022-11-01   \n",
       "4  1009_2022-11-01               1.831783   1009         2022-11-01   \n",
       "\n",
       "   adult2020  adult2021  adjusted_microbusiness_density  \n",
       "0      42496      44438                        3.312480  \n",
       "1     171296     178105                        8.040201  \n",
       "2      19804      19995                        1.220305  \n",
       "3      17790      17800                        1.286517  \n",
       "4      44383      45201                        1.798633  "
      ]
     },
     "execution_count": 33,
     "metadata": {},
     "output_type": "execute_result"
    }
   ],
   "source": [
    "df_submission['adult2020'] = df_submission.cfips.map(adult2020)\n",
    "df_submission['adult2021'] = df_submission.cfips.map(adult2021)\n",
    "df_submission.head()"
   ]
  },
  {
   "cell_type": "code",
   "execution_count": 34,
   "metadata": {},
   "outputs": [],
   "source": [
    "df_submission['adjusted_microbusiness_density'] = \\\n",
    "\tdf_submission['microbusiness_density'] * df_submission['adult2020'] / df_submission['adult2021']"
   ]
  },
  {
   "cell_type": "code",
   "execution_count": 35,
   "metadata": {},
   "outputs": [
    {
     "data": {
      "text/plain": [
       "0         3.312480\n",
       "1         8.040201\n",
       "2         1.220305\n",
       "3         1.286517\n",
       "4         1.798633\n",
       "           ...    \n",
       "25075     2.871739\n",
       "25076    26.266367\n",
       "25077     3.975138\n",
       "25078     3.150000\n",
       "25079     1.818512\n",
       "Name: adjusted_microbusiness_density, Length: 25080, dtype: float64"
      ]
     },
     "execution_count": 35,
     "metadata": {},
     "output_type": "execute_result"
    }
   ],
   "source": [
    "df_submission['adjusted_microbusiness_density']"
   ]
  },
  {
   "cell_type": "code",
   "execution_count": 36,
   "metadata": {},
   "outputs": [
    {
     "data": {
      "text/plain": [
       "np.float64(3.8673410842826885)"
      ]
     },
     "execution_count": 36,
     "metadata": {},
     "output_type": "execute_result"
    }
   ],
   "source": [
    "smape_value = SMAPE(df_test.microbusiness_density.values, df_submission.adjusted_microbusiness_density.values)\n",
    "smape_value"
   ]
  }
 ],
 "metadata": {
  "kernelspec": {
   "display_name": "godaddy",
   "language": "python",
   "name": "python3"
  },
  "language_info": {
   "codemirror_mode": {
    "name": "ipython",
    "version": 3
   },
   "file_extension": ".py",
   "mimetype": "text/x-python",
   "name": "python",
   "nbconvert_exporter": "python",
   "pygments_lexer": "ipython3",
   "version": "3.10.0"
  }
 },
 "nbformat": 4,
 "nbformat_minor": 2
}
