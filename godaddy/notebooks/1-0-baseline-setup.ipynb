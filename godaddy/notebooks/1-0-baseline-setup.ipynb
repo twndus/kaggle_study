{
 "cells": [
  {
   "cell_type": "markdown",
   "metadata": {},
   "source": [
    "# 1.0. Baseline Setup\n",
    "\n",
    "Since this competition has blocked late submissions, this notebook constructs a test dataset based on the latest dataset released by the host. Additionally, it pre-implements the evaluation metric, SMAPE, so that it can be used consistently across all baseline notebooks.\n",
    "\n",
    "1. Pre-implements the evaluation metric, SMAPE.\n",
    "2. Constructs and Store a test dataset."
   ]
  },
  {
   "cell_type": "code",
   "execution_count": 1,
   "metadata": {},
   "outputs": [],
   "source": [
    "import os, datetime\n",
    "from tqdm import tqdm\n",
    "\n",
    "import numpy as np\n",
    "import pandas as pd"
   ]
  },
  {
   "cell_type": "markdown",
   "metadata": {},
   "source": [
    "Load Data to figure out the test period"
   ]
  },
  {
   "cell_type": "code",
   "execution_count": 2,
   "metadata": {},
   "outputs": [],
   "source": [
    "data_dir = '../data/'\n",
    "\n",
    "df_train = pd.read_csv(os.path.join(data_dir, 'train.csv'))\n",
    "df_test = pd.read_csv(os.path.join(data_dir, 'test.csv'))\n",
    "df_revealed_test = pd.read_csv(os.path.join(data_dir, 'revealed_test.csv'))\n",
    "df_submission = pd.read_csv(os.path.join(data_dir, 'sample_submission.csv'))\n",
    "df_census = pd.read_csv(os.path.join(data_dir, 'census_starter.csv'))"
   ]
  },
  {
   "cell_type": "code",
   "execution_count": 3,
   "metadata": {},
   "outputs": [
    {
     "name": "stdout",
     "output_type": "stream",
     "text": [
      "<class 'pandas.core.frame.DataFrame'>\n",
      "RangeIndex: 122265 entries, 0 to 122264\n",
      "Data columns (total 7 columns):\n",
      " #   Column                 Non-Null Count   Dtype  \n",
      "---  ------                 --------------   -----  \n",
      " 0   row_id                 122265 non-null  object \n",
      " 1   cfips                  122265 non-null  int64  \n",
      " 2   county                 122265 non-null  object \n",
      " 3   state                  122265 non-null  object \n",
      " 4   first_day_of_month     122265 non-null  object \n",
      " 5   microbusiness_density  122265 non-null  float64\n",
      " 6   active                 122265 non-null  int64  \n",
      "dtypes: float64(1), int64(2), object(4)\n",
      "memory usage: 6.5+ MB\n"
     ]
    }
   ],
   "source": [
    "df_train.info() # 122,265 entries"
   ]
  },
  {
   "cell_type": "code",
   "execution_count": 4,
   "metadata": {},
   "outputs": [
    {
     "name": "stdout",
     "output_type": "stream",
     "text": [
      "unique counties: 3135\n"
     ]
    }
   ],
   "source": [
    "print(f'unique counties: {df_train.cfips.nunique()}')"
   ]
  },
  {
   "cell_type": "code",
   "execution_count": 5,
   "metadata": {},
   "outputs": [
    {
     "name": "stdout",
     "output_type": "stream",
     "text": [
      "train period:\t\t2019-08 ~ 2022-10\n",
      "test period: \t\t2022-11 ~ 2023-06\n",
      "revealed period: \t2022-11 ~ 2022-12\n"
     ]
    }
   ],
   "source": [
    "# convert first_day_of_month from str to datetime\n",
    "df_train.first_day_of_month = pd.to_datetime(df_train.first_day_of_month)\n",
    "df_test.first_day_of_month = pd.to_datetime(df_test.first_day_of_month)\n",
    "df_revealed_test.first_day_of_month = pd.to_datetime(df_revealed_test.first_day_of_month)\n",
    "\n",
    "strformat = '%Y-%m'\n",
    "print(f'train period:\t\t{df_train.first_day_of_month.min().strftime(strformat)} ~ {df_train.first_day_of_month.max().strftime(strformat)}')\n",
    "print(f'test period: \t\t{df_test.first_day_of_month.min().strftime(strformat)} ~ {df_test.first_day_of_month.max().strftime(strformat)}')\n",
    "print(f'revealed period: \t{df_revealed_test.first_day_of_month.min().strftime(strformat)} ~ {df_revealed_test.first_day_of_month.max().strftime(strformat)}')"
   ]
  },
  {
   "cell_type": "markdown",
   "metadata": {},
   "source": [
    "According to the data description for this competition,\n",
    "\n",
    "> `revealed_test.csv` During the submission period, only the most recent month of data will be used for the public leaderboard. Any test set data older than that will be published in `revealed_test.csv`, closely following the usual data release cycle for the microbusiness report. We expect to publish one copy of `revealed_test.csv` in mid February. This file's schema will match train.csv.\n",
    "\n",
    "- Only the most recent month of data was used for the public leaderboard.\n",
    "- `revealed_test.csv` was the only hint of test data during the competition, so the competitors likely had no visibility into the 2023 data.\n",
    "- The private leaderboard was calculated with approximately 88% of the test data (as described in the private leaderboard instructions)."
   ]
  },
  {
   "cell_type": "markdown",
   "metadata": {},
   "source": [
    "## 1. Pre-implements the evaluation metric, SMAPE.\n",
    "\n",
    "Technically, [SMAPE](https://en.wikipedia.org/wiki/Symmetric_mean_absolute_percentage_error) cannot be calculated when both the predicted and actual value are 0 (zero). However, in this competition, the host defined SMAPE = 0 in case where the actual and predicted values are both 0."
   ]
  },
  {
   "cell_type": "code",
   "execution_count": 6,
   "metadata": {},
   "outputs": [
    {
     "data": {
      "text/plain": [
       "4.211920087419261"
      ]
     },
     "execution_count": 6,
     "metadata": {},
     "output_type": "execute_result"
    }
   ],
   "source": [
    "# define evaluation metric, SMAPE\n",
    "def SMAPE(actuals, preds):\n",
    "\tsmape = 0\n",
    "\tfor actual, pred in zip(actuals, preds):\n",
    "\t\tif (actual==0) and (pred==0): continue\n",
    "\t\tsmape += abs(actual-pred) / (abs(actual) + abs(pred)) * 2 * 100\n",
    "\treturn smape / len(actuals)\n",
    "\n",
    "# Example data\n",
    "data = {\n",
    "    'date': pd.date_range(start='2020-01-01', periods=10, freq='D'),\n",
    "    'actual': [100, 150, 200, 250, 300, 350, 400, 450, 500, 550],\n",
    "    'forecast': [110, 140, 210, 260, 295, 340, 410, 460, 480, 570]\n",
    "}\n",
    "df = pd.DataFrame(data)\n",
    "\n",
    "SMAPE(df['actual'], df['forecast']) # it's supposed to be 4.21 %"
   ]
  },
  {
   "cell_type": "markdown",
   "metadata": {},
   "source": [
    "## 2. Constructs and Store a test dataset\n",
    "\n",
    "Since today is 2024, Godaddy already released Microbusiness Density data from Aug 2019 - Jun 2024. Among four countries, we sole need States data from [this link](https://www.godaddy.com/ventureforward/resource/united-states-microbusiness-density/). I manually downloaded this data on web browser, and added `VF_US_MD_CFIPS_Q224_CSV.csv` file to `godaddy/data` directory. This will be the source of test dataset.\n",
    "\n",
    "Download info\n",
    "- Microbusiness Density\n",
    "- Date Range: Aug 2019 - Jun 2024\n",
    "- download this data with browser to data/\n",
    "- godaddy_us_data = 'https://www.godaddy.com/ventureforward/resource/united-states-microbusiness-density/vf_us_md_q224/'"
   ]
  },
  {
   "cell_type": "code",
   "execution_count": 7,
   "metadata": {},
   "outputs": [
    {
     "name": "stdout",
     "output_type": "stream",
     "text": [
      "<class 'pandas.core.frame.DataFrame'>\n",
      "RangeIndex: 3415 entries, 0 to 3414\n",
      "Columns: 137 entries, cfips to new_md_jun24\n",
      "dtypes: float64(134), object(3)\n",
      "memory usage: 3.6+ MB\n"
     ]
    }
   ],
   "source": [
    "# load data\n",
    "df_godaddy = pd.read_csv(os.path.join(data_dir, 'VF_US_MD_CFIPS_Q224_CSV.csv'))\n",
    "df_godaddy.info()"
   ]
  },
  {
   "cell_type": "markdown",
   "metadata": {},
   "source": [
    "### +) Let's compare the revealed dataset on this competition and the dataset on the official website\n",
    "\n",
    "Column formats\n",
    "- `pop_18_over_{YYYY}`: population of specific year based on Census.us, ex) `pop_18_over_2022`\n",
    "- `active_{MON}{YY}`: the number of active microbusiness of specific year and month, ex) `active_nov22`\n",
    "- `md_{MON}{YY}`: microbusiness density of specific year and month, ex) `md_nov22`"
   ]
  },
  {
   "cell_type": "code",
   "execution_count": 8,
   "metadata": {},
   "outputs": [
    {
     "data": {
      "text/html": [
       "<div>\n",
       "<style scoped>\n",
       "    .dataframe tbody tr th:only-of-type {\n",
       "        vertical-align: middle;\n",
       "    }\n",
       "\n",
       "    .dataframe tbody tr th {\n",
       "        vertical-align: top;\n",
       "    }\n",
       "\n",
       "    .dataframe thead th {\n",
       "        text-align: right;\n",
       "    }\n",
       "</style>\n",
       "<table border=\"1\" class=\"dataframe\">\n",
       "  <thead>\n",
       "    <tr style=\"text-align: right;\">\n",
       "      <th></th>\n",
       "      <th>md_nov22</th>\n",
       "      <th>md_nov22_divby_pop22</th>\n",
       "      <th>md_nov22_divby_pop21</th>\n",
       "    </tr>\n",
       "  </thead>\n",
       "  <tbody>\n",
       "    <tr>\n",
       "      <th>0</th>\n",
       "      <td>3.292227</td>\n",
       "      <td>3.251472</td>\n",
       "      <td>3.292227</td>\n",
       "    </tr>\n",
       "    <tr>\n",
       "      <th>1</th>\n",
       "      <td>7.941944</td>\n",
       "      <td>7.686497</td>\n",
       "      <td>7.941944</td>\n",
       "    </tr>\n",
       "    <tr>\n",
       "      <th>2</th>\n",
       "      <td>1.235309</td>\n",
       "      <td>1.252155</td>\n",
       "      <td>1.235309</td>\n",
       "    </tr>\n",
       "    <tr>\n",
       "      <th>3</th>\n",
       "      <td>1.275281</td>\n",
       "      <td>1.294480</td>\n",
       "      <td>1.275281</td>\n",
       "    </tr>\n",
       "    <tr>\n",
       "      <th>4</th>\n",
       "      <td>1.803057</td>\n",
       "      <td>1.790697</td>\n",
       "      <td>1.803057</td>\n",
       "    </tr>\n",
       "    <tr>\n",
       "      <th>5</th>\n",
       "      <td>0.989732</td>\n",
       "      <td>0.981234</td>\n",
       "      <td>0.989732</td>\n",
       "    </tr>\n",
       "    <tr>\n",
       "      <th>6</th>\n",
       "      <td>2.261069</td>\n",
       "      <td>2.271648</td>\n",
       "      <td>2.261069</td>\n",
       "    </tr>\n",
       "    <tr>\n",
       "      <th>7</th>\n",
       "      <td>2.739139</td>\n",
       "      <td>2.722716</td>\n",
       "      <td>2.739139</td>\n",
       "    </tr>\n",
       "  </tbody>\n",
       "</table>\n",
       "</div>"
      ],
      "text/plain": [
       "   md_nov22  md_nov22_divby_pop22  md_nov22_divby_pop21\n",
       "0  3.292227              3.251472              3.292227\n",
       "1  7.941944              7.686497              7.941944\n",
       "2  1.235309              1.252155              1.235309\n",
       "3  1.275281              1.294480              1.275281\n",
       "4  1.803057              1.790697              1.803057\n",
       "5  0.989732              0.981234              0.989732\n",
       "6  2.261069              2.271648              2.261069\n",
       "7  2.739139              2.722716              2.739139"
      ]
     },
     "execution_count": 8,
     "metadata": {},
     "output_type": "execute_result"
    }
   ],
   "source": [
    "md_nov22_divby_pop22 = (df_godaddy['active_nov22'] / df_godaddy['pop_18_over_2022'] * 100).rename('md_nov22_divby_pop22')\n",
    "md_nov22_divby_pop21 = (df_godaddy['active_nov22'] / df_godaddy['pop_18_over_2021'] * 100).rename('md_nov22_divby_pop21')\n",
    "pd.concat([df_godaddy.md_nov22, md_nov22_divby_pop22, md_nov22_divby_pop21], axis=1).head(8)"
   ]
  },
  {
   "cell_type": "markdown",
   "metadata": {},
   "source": [
    "From the results above, we can assume that `md_nov22` was calculated using `active_nov22` and `pop_18_over_2021`.\n",
    "\n",
    "Now, let’s examine other months in 2022."
   ]
  },
  {
   "cell_type": "code",
   "execution_count": 9,
   "metadata": {},
   "outputs": [
    {
     "data": {
      "text/html": [
       "<div>\n",
       "<style scoped>\n",
       "    .dataframe tbody tr th:only-of-type {\n",
       "        vertical-align: middle;\n",
       "    }\n",
       "\n",
       "    .dataframe tbody tr th {\n",
       "        vertical-align: top;\n",
       "    }\n",
       "\n",
       "    .dataframe thead th {\n",
       "        text-align: right;\n",
       "    }\n",
       "</style>\n",
       "<table border=\"1\" class=\"dataframe\">\n",
       "  <thead>\n",
       "    <tr style=\"text-align: right;\">\n",
       "      <th></th>\n",
       "      <th>md_jan22</th>\n",
       "      <th>md_jan22_divby_pop22</th>\n",
       "      <th>md_jan22_divby_pop21</th>\n",
       "    </tr>\n",
       "  </thead>\n",
       "  <tbody>\n",
       "    <tr>\n",
       "      <th>0</th>\n",
       "      <td>3.152707</td>\n",
       "      <td>3.113679</td>\n",
       "      <td>3.152707</td>\n",
       "    </tr>\n",
       "    <tr>\n",
       "      <th>1</th>\n",
       "      <td>7.437747</td>\n",
       "      <td>7.198518</td>\n",
       "      <td>7.437747</td>\n",
       "    </tr>\n",
       "    <tr>\n",
       "      <th>2</th>\n",
       "      <td>1.175294</td>\n",
       "      <td>1.191321</td>\n",
       "      <td>1.175294</td>\n",
       "    </tr>\n",
       "    <tr>\n",
       "      <th>3</th>\n",
       "      <td>1.213483</td>\n",
       "      <td>1.231752</td>\n",
       "      <td>1.213483</td>\n",
       "    </tr>\n",
       "    <tr>\n",
       "      <th>4</th>\n",
       "      <td>1.721201</td>\n",
       "      <td>1.709402</td>\n",
       "      <td>1.721201</td>\n",
       "    </tr>\n",
       "    <tr>\n",
       "      <th>5</th>\n",
       "      <td>0.828900</td>\n",
       "      <td>0.821783</td>\n",
       "      <td>0.828900</td>\n",
       "    </tr>\n",
       "    <tr>\n",
       "      <th>6</th>\n",
       "      <td>2.045086</td>\n",
       "      <td>2.054655</td>\n",
       "      <td>2.045086</td>\n",
       "    </tr>\n",
       "    <tr>\n",
       "      <th>7</th>\n",
       "      <td>2.657833</td>\n",
       "      <td>2.641897</td>\n",
       "      <td>2.657833</td>\n",
       "    </tr>\n",
       "  </tbody>\n",
       "</table>\n",
       "</div>"
      ],
      "text/plain": [
       "   md_jan22  md_jan22_divby_pop22  md_jan22_divby_pop21\n",
       "0  3.152707              3.113679              3.152707\n",
       "1  7.437747              7.198518              7.437747\n",
       "2  1.175294              1.191321              1.175294\n",
       "3  1.213483              1.231752              1.213483\n",
       "4  1.721201              1.709402              1.721201\n",
       "5  0.828900              0.821783              0.828900\n",
       "6  2.045086              2.054655              2.045086\n",
       "7  2.657833              2.641897              2.657833"
      ]
     },
     "execution_count": 9,
     "metadata": {},
     "output_type": "execute_result"
    }
   ],
   "source": [
    "md_jan22_divby_pop22 = (df_godaddy['active_jan22'] / df_godaddy['pop_18_over_2022'] * 100).rename('md_jan22_divby_pop22')\n",
    "md_jan22_divby_pop21 = (df_godaddy['active_jan22'] / df_godaddy['pop_18_over_2021'] * 100).rename('md_jan22_divby_pop21')\n",
    "pd.concat([df_godaddy.md_jan22, md_jan22_divby_pop22, md_jan22_divby_pop21], axis=1).head(8)"
   ]
  },
  {
   "cell_type": "markdown",
   "metadata": {},
   "source": [
    "It appears that my assumption is true. \n",
    "\n",
    "According to the competition host, the `microbusiness_density` was calcuated using the population lagged by 2 years. If so, the test data from this competition and the data on the official website won't match along. Let's figure it out."
   ]
  },
  {
   "cell_type": "code",
   "execution_count": 10,
   "metadata": {},
   "outputs": [
    {
     "data": {
      "text/html": [
       "<div>\n",
       "<style scoped>\n",
       "    .dataframe tbody tr th:only-of-type {\n",
       "        vertical-align: middle;\n",
       "    }\n",
       "\n",
       "    .dataframe tbody tr th {\n",
       "        vertical-align: top;\n",
       "    }\n",
       "\n",
       "    .dataframe thead th {\n",
       "        text-align: right;\n",
       "    }\n",
       "</style>\n",
       "<table border=\"1\" class=\"dataframe\">\n",
       "  <thead>\n",
       "    <tr style=\"text-align: right;\">\n",
       "      <th></th>\n",
       "      <th>competition_md_nov22</th>\n",
       "      <th>md_nov22</th>\n",
       "      <th>md_nov22_divby_pop20</th>\n",
       "    </tr>\n",
       "    <tr>\n",
       "      <th>cfips</th>\n",
       "      <th></th>\n",
       "      <th></th>\n",
       "      <th></th>\n",
       "    </tr>\n",
       "  </thead>\n",
       "  <tbody>\n",
       "    <tr>\n",
       "      <th>1001.0</th>\n",
       "      <td>3.442677</td>\n",
       "      <td>3.292227</td>\n",
       "      <td>3.442677</td>\n",
       "    </tr>\n",
       "    <tr>\n",
       "      <th>1003.0</th>\n",
       "      <td>8.257636</td>\n",
       "      <td>7.941944</td>\n",
       "      <td>8.257636</td>\n",
       "    </tr>\n",
       "    <tr>\n",
       "      <th>1005.0</th>\n",
       "      <td>1.247223</td>\n",
       "      <td>1.235309</td>\n",
       "      <td>1.247223</td>\n",
       "    </tr>\n",
       "    <tr>\n",
       "      <th>1007.0</th>\n",
       "      <td>1.275998</td>\n",
       "      <td>1.275281</td>\n",
       "      <td>1.275998</td>\n",
       "    </tr>\n",
       "    <tr>\n",
       "      <th>1009.0</th>\n",
       "      <td>1.836289</td>\n",
       "      <td>1.803057</td>\n",
       "      <td>1.836289</td>\n",
       "    </tr>\n",
       "  </tbody>\n",
       "</table>\n",
       "</div>"
      ],
      "text/plain": [
       "        competition_md_nov22  md_nov22  md_nov22_divby_pop20\n",
       "cfips                                                       \n",
       "1001.0              3.442677  3.292227              3.442677\n",
       "1003.0              8.257636  7.941944              8.257636\n",
       "1005.0              1.247223  1.235309              1.247223\n",
       "1007.0              1.275998  1.275281              1.275998\n",
       "1009.0              1.836289  1.803057              1.836289"
      ]
     },
     "execution_count": 10,
     "metadata": {},
     "output_type": "execute_result"
    }
   ],
   "source": [
    "df = df_revealed_test[df_revealed_test.first_day_of_month.dt.month == 11]\n",
    "df = df.set_index('cfips')['microbusiness_density'].rename('competition_md_nov22')\n",
    "\n",
    "md_nov22_divby_pop20 = (df_godaddy['active_nov22'] / df_godaddy['pop_18_over_2020'] * 100).rename('md_nov22_divby_pop20')\n",
    "md_nov22_godaddy = pd.concat([df_godaddy[['cfips', 'md_nov22']], md_nov22_divby_pop20], axis=1).set_index('cfips')\n",
    "\n",
    "pd.merge(df, md_nov22_godaddy, left_index=True, right_index=True, how='left').head()"
   ]
  },
  {
   "cell_type": "markdown",
   "metadata": {},
   "source": [
    "No wonder they doesn't match at all. Instead, the competition values matches with `md_nov22_divby_pop20`.\n",
    "\n",
    "As a result, the microbusiness density on the official website uses the population over 18, lagged by 1 year, while this competition uses the population over 18, lagged by 2 years. To make my approach fully consistent with the competition’s data, a slight adjustment is needed: divide `active` by the population lagged by 2 years."
   ]
  },
  {
   "cell_type": "code",
   "execution_count": 11,
   "metadata": {},
   "outputs": [],
   "source": [
    "# select target data: 2022-11 ~ 2023-06\n",
    "active_cols = [\n",
    "\t'active_nov22', 'active_dec22', 'active_jan23', 'active_feb23', 'active_mar23', 'active_apr23', 'active_may23', 'active_jun23',\n",
    "]\n",
    "pop_cols = ['pop_18_over_2020', 'pop_18_over_2021']\n",
    "\n",
    "# filter valid cfips and columns\n",
    "df_godaddy = df_godaddy[df_godaddy.cfips.isin(df_test.cfips)]\n",
    "df_godaddy = df_godaddy[['cfips'] + active_cols + pop_cols]"
   ]
  },
  {
   "cell_type": "code",
   "execution_count": 12,
   "metadata": {},
   "outputs": [
    {
     "data": {
      "text/html": [
       "<div>\n",
       "<style scoped>\n",
       "    .dataframe tbody tr th:only-of-type {\n",
       "        vertical-align: middle;\n",
       "    }\n",
       "\n",
       "    .dataframe tbody tr th {\n",
       "        vertical-align: top;\n",
       "    }\n",
       "\n",
       "    .dataframe thead th {\n",
       "        text-align: right;\n",
       "    }\n",
       "</style>\n",
       "<table border=\"1\" class=\"dataframe\">\n",
       "  <thead>\n",
       "    <tr style=\"text-align: right;\">\n",
       "      <th></th>\n",
       "      <th>cfips</th>\n",
       "      <th>month</th>\n",
       "      <th>microbusiness_density</th>\n",
       "    </tr>\n",
       "  </thead>\n",
       "  <tbody>\n",
       "    <tr>\n",
       "      <th>0</th>\n",
       "      <td>1001.0</td>\n",
       "      <td>md_nov22</td>\n",
       "      <td>3.442677</td>\n",
       "    </tr>\n",
       "    <tr>\n",
       "      <th>1</th>\n",
       "      <td>1003.0</td>\n",
       "      <td>md_nov22</td>\n",
       "      <td>8.257636</td>\n",
       "    </tr>\n",
       "    <tr>\n",
       "      <th>2</th>\n",
       "      <td>1005.0</td>\n",
       "      <td>md_nov22</td>\n",
       "      <td>1.247223</td>\n",
       "    </tr>\n",
       "    <tr>\n",
       "      <th>3</th>\n",
       "      <td>1007.0</td>\n",
       "      <td>md_nov22</td>\n",
       "      <td>1.275998</td>\n",
       "    </tr>\n",
       "    <tr>\n",
       "      <th>4</th>\n",
       "      <td>1009.0</td>\n",
       "      <td>md_nov22</td>\n",
       "      <td>1.836289</td>\n",
       "    </tr>\n",
       "  </tbody>\n",
       "</table>\n",
       "</div>"
      ],
      "text/plain": [
       "    cfips     month  microbusiness_density\n",
       "0  1001.0  md_nov22               3.442677\n",
       "1  1003.0  md_nov22               8.257636\n",
       "2  1005.0  md_nov22               1.247223\n",
       "3  1007.0  md_nov22               1.275998\n",
       "4  1009.0  md_nov22               1.836289"
      ]
     },
     "execution_count": 12,
     "metadata": {},
     "output_type": "execute_result"
    }
   ],
   "source": [
    "# calculate md by the population lagged 2 years\n",
    "df_godaddy['md_nov22'] = df_godaddy['active_nov22'] / df_godaddy['pop_18_over_2020'] * 100\n",
    "df_godaddy['md_dec22'] = df_godaddy['active_dec22'] / df_godaddy['pop_18_over_2020'] * 100\n",
    "df_godaddy['md_jan23'] = df_godaddy['active_jan23'] / df_godaddy['pop_18_over_2021'] * 100\n",
    "df_godaddy['md_feb23'] = df_godaddy['active_feb23'] / df_godaddy['pop_18_over_2021'] * 100\n",
    "df_godaddy['md_mar23'] = df_godaddy['active_mar23'] / df_godaddy['pop_18_over_2021'] * 100\n",
    "df_godaddy['md_apr23'] = df_godaddy['active_apr23'] / df_godaddy['pop_18_over_2021'] * 100\n",
    "df_godaddy['md_may23'] = df_godaddy['active_may23'] / df_godaddy['pop_18_over_2021'] * 100\n",
    "df_godaddy['md_jun23'] = df_godaddy['active_jun23'] / df_godaddy['pop_18_over_2021'] * 100\n",
    "\n",
    "df_godaddy = df_godaddy.drop(columns=active_cols+pop_cols)\n",
    "\n",
    "# melt columns into a column\n",
    "df_godaddy = df_godaddy.melt(id_vars=['cfips'], var_name='month', value_name='microbusiness_density')\n",
    "\n",
    "df_godaddy.head()"
   ]
  },
  {
   "cell_type": "code",
   "execution_count": 13,
   "metadata": {},
   "outputs": [
    {
     "name": "stdout",
     "output_type": "stream",
     "text": [
      "(24, 3)\n"
     ]
    },
    {
     "data": {
      "text/html": [
       "<div>\n",
       "<style scoped>\n",
       "    .dataframe tbody tr th:only-of-type {\n",
       "        vertical-align: middle;\n",
       "    }\n",
       "\n",
       "    .dataframe tbody tr th {\n",
       "        vertical-align: top;\n",
       "    }\n",
       "\n",
       "    .dataframe thead th {\n",
       "        text-align: right;\n",
       "    }\n",
       "</style>\n",
       "<table border=\"1\" class=\"dataframe\">\n",
       "  <thead>\n",
       "    <tr style=\"text-align: right;\">\n",
       "      <th></th>\n",
       "      <th>cfips</th>\n",
       "      <th>month</th>\n",
       "      <th>microbusiness_density</th>\n",
       "    </tr>\n",
       "  </thead>\n",
       "  <tbody>\n",
       "    <tr>\n",
       "      <th>86</th>\n",
       "      <td>2195.0</td>\n",
       "      <td>md_nov22</td>\n",
       "      <td>NaN</td>\n",
       "    </tr>\n",
       "    <tr>\n",
       "      <th>91</th>\n",
       "      <td>2275.0</td>\n",
       "      <td>md_nov22</td>\n",
       "      <td>NaN</td>\n",
       "    </tr>\n",
       "    <tr>\n",
       "      <th>546</th>\n",
       "      <td>15005.0</td>\n",
       "      <td>md_nov22</td>\n",
       "      <td>NaN</td>\n",
       "    </tr>\n",
       "    <tr>\n",
       "      <th>3221</th>\n",
       "      <td>2195.0</td>\n",
       "      <td>md_dec22</td>\n",
       "      <td>NaN</td>\n",
       "    </tr>\n",
       "    <tr>\n",
       "      <th>3226</th>\n",
       "      <td>2275.0</td>\n",
       "      <td>md_dec22</td>\n",
       "      <td>NaN</td>\n",
       "    </tr>\n",
       "  </tbody>\n",
       "</table>\n",
       "</div>"
      ],
      "text/plain": [
       "        cfips     month  microbusiness_density\n",
       "86     2195.0  md_nov22                    NaN\n",
       "91     2275.0  md_nov22                    NaN\n",
       "546   15005.0  md_nov22                    NaN\n",
       "3221   2195.0  md_dec22                    NaN\n",
       "3226   2275.0  md_dec22                    NaN"
      ]
     },
     "execution_count": 13,
     "metadata": {},
     "output_type": "execute_result"
    }
   ],
   "source": [
    "print(df_godaddy[df_godaddy.cfips.isin([2195, 15005, 2275])].shape)\n",
    "df_godaddy[df_godaddy.cfips.isin([2195, 15005, 2275])].head()\n",
    "# df_revealed_test[df_revealed_test.cfips.isin([2195, 15005, 2275])]"
   ]
  },
  {
   "cell_type": "markdown",
   "metadata": {},
   "source": [
    "These three counties have values for active but not for population, yet the competition dataset somehow includes density values for them. Consequently, the recovered dataset contains 24 NaN values, which must be excluded during evaluation."
   ]
  },
  {
   "cell_type": "code",
   "execution_count": 14,
   "metadata": {},
   "outputs": [],
   "source": [
    "# map column names with training data\n",
    "target_cols = ['md_'+col.split('_')[1] for col in active_cols]\n",
    "target_cols_num = [\n",
    "\t'2022-11-01', '2022-12-01', \n",
    "\t'2023-01-01', '2023-02-01', '2023-03-01', '2023-04-01', '2023-05-01', '2023-06-01'\n",
    "]\n",
    "\n",
    "raw2num = {col:colnum for col, colnum in zip(target_cols, target_cols_num)}\n",
    "df_godaddy.month = df_godaddy.month.map(raw2num)"
   ]
  },
  {
   "cell_type": "code",
   "execution_count": 15,
   "metadata": {},
   "outputs": [],
   "source": [
    "# generate row_id column\n",
    "df_godaddy['row_id'] = df_godaddy.cfips.astype(int).astype(str) + '_' + df_godaddy.month\n",
    "df_godaddy = df_godaddy[['row_id', 'microbusiness_density']]\n",
    "\n",
    "# sort new test data along the order of submission\n",
    "sortmap = {val:idx for idx, val in enumerate(df_submission.row_id.values)}\n",
    "df_godaddy['sortmap'] = df_godaddy.row_id.map(sortmap)\n",
    "df_godaddy = df_godaddy.sort_values('sortmap').drop(columns='sortmap')"
   ]
  },
  {
   "cell_type": "code",
   "execution_count": 16,
   "metadata": {},
   "outputs": [],
   "source": [
    "# store data\n",
    "df_godaddy.to_csv('../data/all_revealed_test.csv', index=False)"
   ]
  },
  {
   "cell_type": "markdown",
   "metadata": {},
   "source": [
    "Demo Evaluation with submission file and test file"
   ]
  },
  {
   "cell_type": "code",
   "execution_count": 17,
   "metadata": {},
   "outputs": [
    {
     "data": {
      "text/plain": [
       "59.84950786877098"
      ]
     },
     "execution_count": 17,
     "metadata": {},
     "output_type": "execute_result"
    }
   ],
   "source": [
    "# dropna for evaluation\n",
    "test = df_godaddy[~df_godaddy.microbusiness_density.isna()]\n",
    "submission = df_submission[~df_godaddy.microbusiness_density.isna()]\n",
    "\n",
    "# evaluate\n",
    "smape_value = SMAPE(test.microbusiness_density.values, submission.microbusiness_density.values).item()\n",
    "smape_value"
   ]
  },
  {
   "cell_type": "markdown",
   "metadata": {},
   "source": [
    "FYI, private LB (88% of the test data)\n",
    "- 1st place: 3.7877\n",
    "- 10st place: 3.8827\n",
    "- 354st place: 4.1288"
   ]
  },
  {
   "cell_type": "code",
   "execution_count": 18,
   "metadata": {},
   "outputs": [
    {
     "name": "stdout",
     "output_type": "stream",
     "text": [
      "estimated public SMAPE: 0.0000\n"
     ]
    }
   ],
   "source": [
    "# dropna for evaluation\n",
    "test = df_revealed_test[~df_revealed_test.cfips.isin([2195, 15005, 2275])]\n",
    "submission = df_godaddy[~df_godaddy.isna()]\n",
    "submission = submission[submission.row_id.apply(lambda x: True if x.split('_')[1][:4] == 2022 else False)] # 2022 only\n",
    "\n",
    "# sort new test data along the order of submission\n",
    "sortmap = {val:idx for idx, val in enumerate(test.row_id.values)}\n",
    "submission['sortmap'] = submission.row_id.map(sortmap)\n",
    "submission = submission.sort_values('sortmap').drop(columns='sortmap')\n",
    "\n",
    "# evaluation with pre-define smape\n",
    "public_smape = SMAPE(\n",
    "\ttest.microbusiness_density.values, \n",
    "\tsubmission.microbusiness_density.values)\n",
    "print(f'estimated public SMAPE: {public_smape:.4f}')"
   ]
  },
  {
   "cell_type": "markdown",
   "metadata": {},
   "source": [
    "SMAPE = 0 between `df_revealed_test` and reconstructed test dataset."
   ]
  }
 ],
 "metadata": {
  "kernelspec": {
   "display_name": "godaddy",
   "language": "python",
   "name": "python3"
  },
  "language_info": {
   "codemirror_mode": {
    "name": "ipython",
    "version": 3
   },
   "file_extension": ".py",
   "mimetype": "text/x-python",
   "name": "python",
   "nbconvert_exporter": "python",
   "pygments_lexer": "ipython3",
   "version": "3.10.0"
  }
 },
 "nbformat": 4,
 "nbformat_minor": 2
}
