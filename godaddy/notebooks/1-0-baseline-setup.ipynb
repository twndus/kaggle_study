{
 "cells": [
  {
   "cell_type": "markdown",
   "metadata": {},
   "source": [
    "# 1.0. Baseline Setup\n",
    "\n",
    "Since this competition has blocked late submissions, this notebook constructs a test dataset based on the latest dataset released by the host. Additionally, it pre-implements the evaluation metric, SMAPE, so that it can be used consistently across all baseline notebooks.\n",
    "\n",
    "1. Pre-implements the evaluation metric, SMAPE.\n",
    "2. Constructs and Store a test dataset."
   ]
  },
  {
   "cell_type": "code",
   "execution_count": 1,
   "metadata": {},
   "outputs": [],
   "source": [
    "import os, datetime\n",
    "from tqdm import tqdm\n",
    "\n",
    "import numpy as np\n",
    "import pandas as pd"
   ]
  },
  {
   "cell_type": "markdown",
   "metadata": {},
   "source": [
    "Load Data to figure out the test period"
   ]
  },
  {
   "cell_type": "code",
   "execution_count": 2,
   "metadata": {},
   "outputs": [],
   "source": [
    "data_dir = '../data/'\n",
    "\n",
    "df_train = pd.read_csv(os.path.join(data_dir, 'train.csv'))\n",
    "df_test = pd.read_csv(os.path.join(data_dir, 'test.csv'))\n",
    "df_revealed_test = pd.read_csv(os.path.join(data_dir, 'revealed_test.csv'))\n",
    "df_submission = pd.read_csv(os.path.join(data_dir, 'sample_submission.csv'))\n",
    "df_census = pd.read_csv(os.path.join(data_dir, 'census_starter.csv'))"
   ]
  },
  {
   "cell_type": "code",
   "execution_count": 3,
   "metadata": {},
   "outputs": [
    {
     "name": "stdout",
     "output_type": "stream",
     "text": [
      "<class 'pandas.core.frame.DataFrame'>\n",
      "RangeIndex: 122265 entries, 0 to 122264\n",
      "Data columns (total 7 columns):\n",
      " #   Column                 Non-Null Count   Dtype  \n",
      "---  ------                 --------------   -----  \n",
      " 0   row_id                 122265 non-null  object \n",
      " 1   cfips                  122265 non-null  int64  \n",
      " 2   county                 122265 non-null  object \n",
      " 3   state                  122265 non-null  object \n",
      " 4   first_day_of_month     122265 non-null  object \n",
      " 5   microbusiness_density  122265 non-null  float64\n",
      " 6   active                 122265 non-null  int64  \n",
      "dtypes: float64(1), int64(2), object(4)\n",
      "memory usage: 6.5+ MB\n"
     ]
    }
   ],
   "source": [
    "df_train.info() # 122,265 entries"
   ]
  },
  {
   "cell_type": "code",
   "execution_count": 4,
   "metadata": {},
   "outputs": [
    {
     "name": "stdout",
     "output_type": "stream",
     "text": [
      "unique counties: 3135\n"
     ]
    }
   ],
   "source": [
    "print(f'unique counties: {df_train.cfips.nunique()}')"
   ]
  },
  {
   "cell_type": "code",
   "execution_count": 5,
   "metadata": {},
   "outputs": [
    {
     "name": "stdout",
     "output_type": "stream",
     "text": [
      "train period:\t\t2019-08 ~ 2022-10\n",
      "test period: \t\t2022-11 ~ 2023-06\n",
      "revealed period: \t2022-11 ~ 2022-12\n"
     ]
    }
   ],
   "source": [
    "# convert first_day_of_month from str to datetime\n",
    "df_train.first_day_of_month = pd.to_datetime(df_train.first_day_of_month)\n",
    "df_test.first_day_of_month = pd.to_datetime(df_test.first_day_of_month)\n",
    "df_revealed_test.first_day_of_month = pd.to_datetime(df_revealed_test.first_day_of_month)\n",
    "\n",
    "strformat = '%Y-%m'\n",
    "print(f'train period:\t\t{df_train.first_day_of_month.min().strftime(strformat)} ~ {df_train.first_day_of_month.max().strftime(strformat)}')\n",
    "print(f'test period: \t\t{df_test.first_day_of_month.min().strftime(strformat)} ~ {df_test.first_day_of_month.max().strftime(strformat)}')\n",
    "print(f'revealed period: \t{df_revealed_test.first_day_of_month.min().strftime(strformat)} ~ {df_revealed_test.first_day_of_month.max().strftime(strformat)}')"
   ]
  },
  {
   "cell_type": "markdown",
   "metadata": {},
   "source": [
    "According to the data description for this competition,\n",
    "\n",
    "> `revealed_test.csv` During the submission period, only the most recent month of data will be used for the public leaderboard. Any test set data older than that will be published in `revealed_test.csv`, closely following the usual data release cycle for the microbusiness report. We expect to publish one copy of `revealed_test.csv` in mid February. This file's schema will match train.csv.\n",
    "\n",
    "- Only the most recent month of data was used for the public leaderboard.\n",
    "- `revealed_test.csv` was the only hint of test data during the competition, so the competitors likely had no visibility into the 2023 data.\n",
    "- The private leaderboard was calculated with approximately 88% of the test data (as described in the private leaderboard instructions)."
   ]
  },
  {
   "cell_type": "markdown",
   "metadata": {},
   "source": [
    "## 1. Pre-implements the evaluation metric, SMAPE.\n",
    "\n",
    "Technically, [SMAPE](https://en.wikipedia.org/wiki/Symmetric_mean_absolute_percentage_error) cannot be calculated when both the predicted and actual value are 0 (zero). However, in this competition, the host defined SMAPE = 0 in case where the actual and predicted values are both 0."
   ]
  },
  {
   "cell_type": "code",
   "execution_count": 6,
   "metadata": {},
   "outputs": [
    {
     "data": {
      "text/plain": [
       "4.211920087419261"
      ]
     },
     "execution_count": 6,
     "metadata": {},
     "output_type": "execute_result"
    }
   ],
   "source": [
    "# define evaluation metric, SMAPE\n",
    "def SMAPE(actuals, preds):\n",
    "\tsmape = 0\n",
    "\tfor actual, pred in zip(actuals, preds):\n",
    "\t\tif (actual==0) and (pred==0): continue\n",
    "\t\tsmape += abs(actual-pred) / (abs(actual) + abs(pred)) * 2 * 100\n",
    "\treturn smape / len(actuals)\n",
    "\n",
    "# Example data\n",
    "data = {\n",
    "    'date': pd.date_range(start='2020-01-01', periods=10, freq='D'),\n",
    "    'actual': [100, 150, 200, 250, 300, 350, 400, 450, 500, 550],\n",
    "    'forecast': [110, 140, 210, 260, 295, 340, 410, 460, 480, 570]\n",
    "}\n",
    "df = pd.DataFrame(data)\n",
    "\n",
    "SMAPE(df['actual'], df['forecast']) # it's supposed to be 4.21 %"
   ]
  },
  {
   "cell_type": "markdown",
   "metadata": {},
   "source": [
    "## 2. Constructs and Store a test dataset\n",
    "\n",
    "Since today is 2024, Godaddy already released Microbusiness Density data from Aug 2019 - Jun 2024. Among four countries, we sole need States data from [this link](https://www.godaddy.com/ventureforward/resource/united-states-microbusiness-density/). I manually downloaded this data on web browser, and added `VF_US_MD_CFIPS_Q224_CSV.csv` file to `godaddy/data` directory. This will be the source of test dataset.\n",
    "\n",
    "Download info\n",
    "- Microbusiness Density\n",
    "- Date Range: Aug 2019 - Jun 2024\n",
    "- download this data with browser to data/\n",
    "- godaddy_us_data = 'https://www.godaddy.com/ventureforward/resource/united-states-microbusiness-density/vf_us_md_q224/'"
   ]
  },
  {
   "cell_type": "code",
   "execution_count": 51,
   "metadata": {},
   "outputs": [
    {
     "name": "stdout",
     "output_type": "stream",
     "text": [
      "<class 'pandas.core.frame.DataFrame'>\n",
      "RangeIndex: 3415 entries, 0 to 3414\n",
      "Columns: 137 entries, cfips to new_md_jun24\n",
      "dtypes: float64(134), object(3)\n",
      "memory usage: 3.6+ MB\n"
     ]
    }
   ],
   "source": [
    "# load data\n",
    "df_godaddy = pd.read_csv(os.path.join(data_dir, 'VF_US_MD_CFIPS_Q224_CSV.csv'))\n",
    "df_godaddy.info()"
   ]
  },
  {
   "cell_type": "code",
   "execution_count": 52,
   "metadata": {},
   "outputs": [
    {
     "data": {
      "text/html": [
       "<div>\n",
       "<style scoped>\n",
       "    .dataframe tbody tr th:only-of-type {\n",
       "        vertical-align: middle;\n",
       "    }\n",
       "\n",
       "    .dataframe tbody tr th {\n",
       "        vertical-align: top;\n",
       "    }\n",
       "\n",
       "    .dataframe thead th {\n",
       "        text-align: right;\n",
       "    }\n",
       "</style>\n",
       "<table border=\"1\" class=\"dataframe\">\n",
       "  <thead>\n",
       "    <tr style=\"text-align: right;\">\n",
       "      <th></th>\n",
       "      <th>cfips</th>\n",
       "      <th>month</th>\n",
       "      <th>microbusiness_density</th>\n",
       "    </tr>\n",
       "  </thead>\n",
       "  <tbody>\n",
       "    <tr>\n",
       "      <th>0</th>\n",
       "      <td>1001.0</td>\n",
       "      <td>md_nov22</td>\n",
       "      <td>3.292227</td>\n",
       "    </tr>\n",
       "    <tr>\n",
       "      <th>1</th>\n",
       "      <td>1003.0</td>\n",
       "      <td>md_nov22</td>\n",
       "      <td>7.941944</td>\n",
       "    </tr>\n",
       "    <tr>\n",
       "      <th>2</th>\n",
       "      <td>1005.0</td>\n",
       "      <td>md_nov22</td>\n",
       "      <td>1.235309</td>\n",
       "    </tr>\n",
       "    <tr>\n",
       "      <th>3</th>\n",
       "      <td>1007.0</td>\n",
       "      <td>md_nov22</td>\n",
       "      <td>1.275281</td>\n",
       "    </tr>\n",
       "    <tr>\n",
       "      <th>4</th>\n",
       "      <td>1009.0</td>\n",
       "      <td>md_nov22</td>\n",
       "      <td>1.803057</td>\n",
       "    </tr>\n",
       "  </tbody>\n",
       "</table>\n",
       "</div>"
      ],
      "text/plain": [
       "    cfips     month  microbusiness_density\n",
       "0  1001.0  md_nov22               3.292227\n",
       "1  1003.0  md_nov22               7.941944\n",
       "2  1005.0  md_nov22               1.235309\n",
       "3  1007.0  md_nov22               1.275281\n",
       "4  1009.0  md_nov22               1.803057"
      ]
     },
     "execution_count": 52,
     "metadata": {},
     "output_type": "execute_result"
    }
   ],
   "source": [
    "# filter valid cfips and columns\n",
    "df_godaddy = df_godaddy[df_godaddy.cfips.isin(df_test.cfips)]\n",
    "df_godaddy = df_godaddy[['cfips'] + target_cols]\n",
    "\n",
    "# melt columns into a column\n",
    "df_godaddy = df_godaddy.melt(id_vars=['cfips'], var_name='month', value_name='microbusiness_density')\n",
    "\n",
    "df_godaddy.head()"
   ]
  },
  {
   "cell_type": "code",
   "execution_count": 53,
   "metadata": {},
   "outputs": [],
   "source": [
    "# select target data: 2022-11 ~ 2023-06\n",
    "target_cols = [\n",
    "\t'md_nov22', 'md_dec22', \n",
    "\t'md_jan23', 'md_feb23', 'md_mar23', 'md_apr23', 'md_may23', 'md_jun23'\n",
    "]\n",
    "target_cols_num = [\n",
    "\t'2022-11-01', '2022-12-01', \n",
    "\t'2023-01-01', '2023-02-01', '2023-03-01', '2023-04-01', '2023-05-01', '2023-06-01'\n",
    "]\n",
    "\n",
    "raw2num = {col:colnum for col, colnum in zip(target_cols, target_cols_num)}\n",
    "df_godaddy.month = df_godaddy.month.map(raw2num)"
   ]
  },
  {
   "cell_type": "code",
   "execution_count": 54,
   "metadata": {},
   "outputs": [],
   "source": [
    "# generate row_id column\n",
    "df_godaddy['row_id'] = df_godaddy.cfips.astype(int).astype(str) + '_' + df_godaddy.month\n",
    "df_godaddy = df_godaddy[['row_id', 'microbusiness_density']]\n",
    "\n",
    "# sort new test data along the order of submission\n",
    "sortmap = {val:idx for idx, val in enumerate(df_submission.row_id.values)}\n",
    "df_godaddy['sortmap'] = df_godaddy.row_id.map(sortmap)\n",
    "df_godaddy = df_godaddy.sort_values('sortmap').drop(columns='sortmap')"
   ]
  },
  {
   "cell_type": "code",
   "execution_count": 57,
   "metadata": {},
   "outputs": [],
   "source": [
    "# store data\n",
    "df_godaddy.to_csv('../data/all_revealed_test.csv', index=False)"
   ]
  },
  {
   "cell_type": "markdown",
   "metadata": {},
   "source": [
    "Demo Evaluation with submission file and test file"
   ]
  },
  {
   "cell_type": "code",
   "execution_count": 58,
   "metadata": {},
   "outputs": [
    {
     "data": {
      "text/plain": [
       "59.62397976302414"
      ]
     },
     "execution_count": 58,
     "metadata": {},
     "output_type": "execute_result"
    }
   ],
   "source": [
    "smape_value = SMAPE(df_godaddy.microbusiness_density.values, df_submission.microbusiness_density.values).item()\n",
    "smape_value"
   ]
  },
  {
   "cell_type": "markdown",
   "metadata": {},
   "source": [
    "FYI, private LB (88% of the test data)\n",
    "- 1st place: 3.7877\n",
    "- 10st place: 3.8827\n",
    "- 354st place: 4.1288"
   ]
  }
 ],
 "metadata": {
  "kernelspec": {
   "display_name": "godaddy",
   "language": "python",
   "name": "python3"
  },
  "language_info": {
   "codemirror_mode": {
    "name": "ipython",
    "version": 3
   },
   "file_extension": ".py",
   "mimetype": "text/x-python",
   "name": "python",
   "nbconvert_exporter": "python",
   "pygments_lexer": "ipython3",
   "version": "3.10.0"
  }
 },
 "nbformat": 4,
 "nbformat_minor": 2
}
