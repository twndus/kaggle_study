{
 "cells": [
  {
   "cell_type": "markdown",
   "metadata": {},
   "source": [
    "# 1.2. MD Forecasting with Machine Learning Models\n",
    "\n",
    "Machine learning models, particularly boosting models, dominated the leaderboard in this competition. I plan to build and compare several ML models to assess their performance."
   ]
  },
  {
   "cell_type": "code",
   "execution_count": 1,
   "metadata": {},
   "outputs": [],
   "source": [
    "import os, datetime\n",
    "from tqdm import tqdm\n",
    "\n",
    "from dateutil.relativedelta import relativedelta\n",
    "\n",
    "import numpy as np\n",
    "import pandas as pd\n",
    "\n",
    "from utils import SMAPE\n",
    "import xgboost as xgb\n",
    "\n",
    "pd.options.mode.chained_assignment = None \n",
    "random_state = 42"
   ]
  },
  {
   "cell_type": "code",
   "execution_count": 2,
   "metadata": {},
   "outputs": [],
   "source": [
    "data_dir = '../data/'\n",
    "\n",
    "# train data\n",
    "df_train = pd.read_csv(os.path.join(data_dir, 'train.csv'))\n",
    "df_revealed_test = pd.read_csv(os.path.join(data_dir, 'revealed_test.csv'))\n",
    "df_submission = pd.read_csv(os.path.join(data_dir, 'sample_submission.csv'))\n",
    "df_census = pd.read_csv(os.path.join(data_dir, 'census_starter.csv'))\n",
    "\n",
    "# test data\n",
    "df_test = pd.read_csv(os.path.join(data_dir, 'all_revealed_test.csv'))"
   ]
  },
  {
   "cell_type": "markdown",
   "metadata": {},
   "source": [
    "## 1. Data Prep\n",
    "\n",
    "- inputs: cfips_ord(index), state_ord, year, month, n_months\n",
    "- outputs: microbusiness_density"
   ]
  },
  {
   "cell_type": "code",
   "execution_count": 3,
   "metadata": {},
   "outputs": [],
   "source": [
    "# convert str to datetime\n",
    "df_train.first_day_of_month = pd.to_datetime(df_train.first_day_of_month)"
   ]
  },
  {
   "cell_type": "code",
   "execution_count": 4,
   "metadata": {},
   "outputs": [
    {
     "data": {
      "text/html": [
       "<div>\n",
       "<style scoped>\n",
       "    .dataframe tbody tr th:only-of-type {\n",
       "        vertical-align: middle;\n",
       "    }\n",
       "\n",
       "    .dataframe tbody tr th {\n",
       "        vertical-align: top;\n",
       "    }\n",
       "\n",
       "    .dataframe thead th {\n",
       "        text-align: right;\n",
       "    }\n",
       "</style>\n",
       "<table border=\"1\" class=\"dataframe\">\n",
       "  <thead>\n",
       "    <tr style=\"text-align: right;\">\n",
       "      <th></th>\n",
       "      <th>row_id</th>\n",
       "      <th>microbusiness_density</th>\n",
       "      <th>cfips</th>\n",
       "      <th>first_day_of_month</th>\n",
       "      <th>state</th>\n",
       "    </tr>\n",
       "  </thead>\n",
       "  <tbody>\n",
       "    <tr>\n",
       "      <th>0</th>\n",
       "      <td>1001_2022-11-01</td>\n",
       "      <td>3.442677</td>\n",
       "      <td>1001</td>\n",
       "      <td>2022-11-01</td>\n",
       "      <td>Alabama</td>\n",
       "    </tr>\n",
       "    <tr>\n",
       "      <th>1</th>\n",
       "      <td>1003_2022-11-01</td>\n",
       "      <td>8.257636</td>\n",
       "      <td>1003</td>\n",
       "      <td>2022-11-01</td>\n",
       "      <td>Alabama</td>\n",
       "    </tr>\n",
       "    <tr>\n",
       "      <th>2</th>\n",
       "      <td>1005_2022-11-01</td>\n",
       "      <td>1.247223</td>\n",
       "      <td>1005</td>\n",
       "      <td>2022-11-01</td>\n",
       "      <td>Alabama</td>\n",
       "    </tr>\n",
       "    <tr>\n",
       "      <th>3</th>\n",
       "      <td>1007_2022-11-01</td>\n",
       "      <td>1.275998</td>\n",
       "      <td>1007</td>\n",
       "      <td>2022-11-01</td>\n",
       "      <td>Alabama</td>\n",
       "    </tr>\n",
       "    <tr>\n",
       "      <th>4</th>\n",
       "      <td>1009_2022-11-01</td>\n",
       "      <td>1.836289</td>\n",
       "      <td>1009</td>\n",
       "      <td>2022-11-01</td>\n",
       "      <td>Alabama</td>\n",
       "    </tr>\n",
       "  </tbody>\n",
       "</table>\n",
       "</div>"
      ],
      "text/plain": [
       "            row_id  microbusiness_density  cfips first_day_of_month    state\n",
       "0  1001_2022-11-01               3.442677   1001         2022-11-01  Alabama\n",
       "1  1003_2022-11-01               8.257636   1003         2022-11-01  Alabama\n",
       "2  1005_2022-11-01               1.247223   1005         2022-11-01  Alabama\n",
       "3  1007_2022-11-01               1.275998   1007         2022-11-01  Alabama\n",
       "4  1009_2022-11-01               1.836289   1009         2022-11-01  Alabama"
      ]
     },
     "execution_count": 4,
     "metadata": {},
     "output_type": "execute_result"
    }
   ],
   "source": [
    "# decompose row_id of test dataset\n",
    "df_test['cfips'] = df_test.row_id.apply(lambda x: int(x.split('_')[0]))\n",
    "df_test['first_day_of_month'] = pd.to_datetime(df_test.row_id.apply(lambda x: x.split('_')[1]))\n",
    "\n",
    "# create state column in test dataset\n",
    "cfips2state = {cfips: state for cfips, state in df_train[['cfips', 'state']].drop_duplicates().values}\n",
    "df_test['state'] = df_test.cfips.map(cfips2state)\n",
    "\n",
    "df_test.head()"
   ]
  },
  {
   "cell_type": "code",
   "execution_count": 5,
   "metadata": {},
   "outputs": [],
   "source": [
    "# label encoding of cfips and state\n",
    "cfips2id = {cfips: idx for idx, cfips in enumerate(df_train.cfips.unique())}\n",
    "id2cfips = {idx: cfips for cfips, idx in cfips2id.items()}\n",
    "\n",
    "state2id = {state: idx for idx, state in enumerate(df_train.state.unique())}\n",
    "id2state = {idx: state for state, idx in state2id.items()}\n",
    "\n",
    "# train dataset\n",
    "df_train['cfips_ord'] = df_train.cfips.map(cfips2id)\n",
    "df_train['state_ord'] = df_train.state.map(state2id)\n",
    "\n",
    "# test dataset\n",
    "df_test['cfips_ord'] = df_test.cfips.map(cfips2id)\n",
    "df_test['state_ord'] = df_test.state.map(state2id)"
   ]
  },
  {
   "cell_type": "code",
   "execution_count": 6,
   "metadata": {},
   "outputs": [],
   "source": [
    "# first_day_of_month into numeric columns -> month, year, n_months\n",
    "\n",
    "df_train['month'] = df_train.first_day_of_month.dt.month\n",
    "df_train['year'] = df_train.first_day_of_month.dt.year\n",
    "\n",
    "df_test['month'] = df_test.first_day_of_month.dt.month\n",
    "df_test['year'] = df_test.first_day_of_month.dt.year\n",
    "\n",
    "\n",
    "def month_difference(val1, val2):\n",
    "\tdifference = relativedelta(val1, val2)\n",
    "\treturn difference.years * 12 + difference.months\n",
    "\n",
    "latest_month = df_test.first_day_of_month.max()\n",
    "\n",
    "df_train['n_months'] = df_train.first_day_of_month.apply(\n",
    "\tlambda x: month_difference(latest_month, x))\n",
    "\n",
    "df_test['n_months'] = df_test.first_day_of_month.apply(\n",
    "\tlambda x: month_difference(latest_month, x))"
   ]
  },
  {
   "cell_type": "markdown",
   "metadata": {},
   "source": [
    "### 1.2. train valid split"
   ]
  },
  {
   "cell_type": "code",
   "execution_count": 7,
   "metadata": {},
   "outputs": [],
   "source": [
    "input_features = ['cfips_ord', 'state_ord', 'month', 'year', 'n_months']\n",
    "\n",
    "X_train = df_train[input_features]\n",
    "X_test = df_test[input_features]\n",
    "\n",
    "y_train = df_train['microbusiness_density']\n",
    "y_test = df_test['microbusiness_density']"
   ]
  },
  {
   "cell_type": "code",
   "execution_count": 8,
   "metadata": {},
   "outputs": [],
   "source": [
    "# split train and val along time with ratio 0.2\n",
    "X_val = X_train[(X_train['year'] >= 2022) & (X_train['month'] >= 3)]\n",
    "X_train = X_train[~X_train.index.isin(X_val.index)]\n",
    "\n",
    "y_val = y_train[X_val.index]\n",
    "y_train = y_train[X_train.index]"
   ]
  },
  {
   "cell_type": "code",
   "execution_count": 9,
   "metadata": {},
   "outputs": [
    {
     "data": {
      "text/plain": [
       "((97185, 5), (25080, 5), (25080, 5), (97185,), (25080,), (25080,))"
      ]
     },
     "execution_count": 9,
     "metadata": {},
     "output_type": "execute_result"
    }
   ],
   "source": [
    "X_train.shape, X_val.shape, X_test.shape, y_train.shape, y_val.shape, y_test.shape"
   ]
  },
  {
   "cell_type": "markdown",
   "metadata": {},
   "source": [
    "## 2. Non-Boosting Models\n",
    "\n",
    "SVR, Random Forest, KNN"
   ]
  },
  {
   "cell_type": "code",
   "execution_count": 10,
   "metadata": {},
   "outputs": [],
   "source": [
    "from sklearn.svm import SVR\n",
    "from sklearn.ensemble import RandomForestRegressor\n",
    "from sklearn.neighbors import KNeighborsRegressor"
   ]
  },
  {
   "cell_type": "code",
   "execution_count": 11,
   "metadata": {},
   "outputs": [
    {
     "name": "stdout",
     "output_type": "stream",
     "text": [
      "[LibSVM].............................................................\n",
      "Warning: using -h 0 may be faster\n",
      "*.\n",
      "Warning: using -h 0 may be faster\n",
      "*..\n",
      "Warning: using -h 0 may be faster\n",
      "*\n",
      "optimization finished, #iter = 63570\n",
      "obj = -201039.563967, rho = -1.971913\n",
      "nSV = 92930, nBSV = 92923\n",
      "SVR SMAPE: 54.59590867385068\n",
      "RF SMAPE: 4.120553349462838\n",
      "KNN SMAPE: 41.924357223147034\n"
     ]
    }
   ],
   "source": [
    "svr_model = SVR(kernel='rbf', C=1.0, epsilon=0.1, verbose=True)\n",
    "rf_model = RandomForestRegressor(n_estimators=100, random_state=0)\n",
    "knn_model = KNeighborsRegressor(n_neighbors=3)\n",
    "\n",
    "for modelname, model in zip(['SVR', 'RF', 'KNN'], [svr_model, rf_model, knn_model]):\n",
    "\tmodel.fit(X_train, y_train)\n",
    "\tpreds = model.predict(X_val)\n",
    "\tprint(f\"{modelname} SMAPE:\", SMAPE(y_val, preds))"
   ]
  },
  {
   "cell_type": "markdown",
   "metadata": {},
   "source": [
    "총 9분 소요\n",
    "\n",
    "- SVR SMAPE: 54.59590867385068\n",
    "- RF SMAPE: 4.120553349462838\n",
    "- KNN SMAPE: 41.924357223147034\n",
    "\n",
    "With default hyper parameters, Random Forest works well. Let's use this model."
   ]
  },
  {
   "cell_type": "markdown",
   "metadata": {},
   "source": [
    "## 3. Boosting model\n",
    "\n",
    "GBM, XGB, LightGBM, CatBoost"
   ]
  },
  {
   "cell_type": "code",
   "execution_count": 12,
   "metadata": {},
   "outputs": [],
   "source": [
    "from sklearn.ensemble import GradientBoostingRegressor\n",
    "import lightgbm as lgb\n",
    "import xgboost as xgb\n",
    "from catboost import CatBoostRegressor"
   ]
  },
  {
   "cell_type": "code",
   "execution_count": 14,
   "metadata": {},
   "outputs": [],
   "source": [
    "gbm_params = {\n",
    "\t'learning_rate': 0.2, \n",
    "\t'min_samples_split': 500,\n",
    "\t'min_samples_leaf': 50,\n",
    "\t'max_depth': 6,\n",
    "\t'max_features': 'sqrt',\n",
    "\t'subsample': 0.8,\n",
    "\t'random_state': random_state,\n",
    "\t'loss': 'huber',\n",
    "}\n",
    "\n",
    "lgbm_params = {\n",
    "\t'objectives': 'huber',\n",
    "\t'metric': 'mae',\n",
    "\t'learning_rate': 0.05,\n",
    "\t'num_leaves':31,\n",
    "\t'max_depth': 8,\n",
    "\t'min_data_in_leaf': 20,\n",
    "\t'lambda_l1': 0.1,\n",
    "\t'lambda_l2': 0.1,\n",
    "\t'feature_fraction': 0.6,\n",
    "\t'bagging_fraction': 0.7,\n",
    "\t'bagging_freq': 5,\n",
    "\t'boosting_type': 'gbdt',\n",
    "\t'n_estimators': 1000,\n",
    "}"
   ]
  },
  {
   "cell_type": "code",
   "execution_count": 15,
   "metadata": {},
   "outputs": [
    {
     "name": "stdout",
     "output_type": "stream",
     "text": [
      "GBM SMAPE: 46.56014817609906\n",
      "LGB SMAPE: 50.43115076555283\n",
      "XGB SMAPE: 49.69345990216143\n",
      "Catboost SMAPE: 50.1569603446478\n"
     ]
    }
   ],
   "source": [
    "gbm_model = GradientBoostingRegressor(verbose=False, **gbm_params)\n",
    "gbm_model = gbm_model.fit(X_train, y_train)\n",
    "preds = gbm_model.predict(X_val)\n",
    "print(f\"GBM SMAPE:\", SMAPE(y_val, preds))\n",
    "\n",
    "lgbm_model = lgb.LGBMRegressor(verbose=-1, **lgbm_params)\n",
    "lgbm_model = lgbm_model.fit(X_train, y_train, eval_set=[(X_val, y_val)])\n",
    "preds = lgbm_model.predict(X_val)\n",
    "print(f\"LGB SMAPE:\", SMAPE(y_val, preds))\n",
    "\n",
    "xgb_model = xgb.XGBRegressor()\n",
    "xgb_model = xgb_model.fit(X_train, y_train, eval_set=[(X_val, y_val)], verbose=0)\n",
    "preds = xgb_model.predict(X_val)\n",
    "print(f\"XGB SMAPE:\", SMAPE(y_val, preds))\n",
    "\n",
    "catboost_model = CatBoostRegressor(verbose=0)\n",
    "catboost_model = catboost_model.fit(X_train, y_train, eval_set=[(X_val, y_val)])\n",
    "preds = catboost_model.predict(X_val)\n",
    "print(f\"Catboost SMAPE:\", SMAPE(y_val, preds))"
   ]
  },
  {
   "cell_type": "markdown",
   "metadata": {},
   "source": [
    "Basic Parameter Results\n",
    "- SVR SMAPE: 54.59590867385068\n",
    "- RF SMAPE: 4.120553349462838\n",
    "- KNN SMAPE: 41.924357223147034\n",
    "- GBM SMAPE: 46.56014817609906\n",
    "- LGB SMAPE: 50.43115076555283\n",
    "- XGB SMAPE: 49.69345990216143\n",
    "- Catboost SMAPE: 50.1569603446478"
   ]
  },
  {
   "cell_type": "markdown",
   "metadata": {},
   "source": [
    "## 4. Random Forest targetting `active`\n",
    "\n",
    "Since the evaluation metric is SMAPE, which is percentage-based, we can evaluate `active` predictions directly without converting them into density.”"
   ]
  },
  {
   "cell_type": "code",
   "execution_count": 23,
   "metadata": {},
   "outputs": [],
   "source": [
    "# load census\n",
    "COLS = ['GEO_ID','NAME','S0101_C01_026E']\n",
    "df_submission = df_test.copy()\n",
    "\n",
    "for year in range(2017, 2022):\n",
    "\tdf_census = pd.read_csv(\n",
    "\t\tos.path.join(data_dir, 'census', f'ACSST5Y{year}.S0101-Data.csv'),\n",
    "\t\tusecols=COLS, \n",
    "\t\tlow_memory=False\n",
    "\t\t).iloc[1:]\n",
    "\tdf_census['S0101_C01_026E'] = df_census['S0101_C01_026E'].astype('int')\n",
    "\n",
    "\tdf_census['cfips'] = df_census.GEO_ID.apply(lambda x: int(x.split('US')[-1]) )\n",
    "\tpopulation = df_census.set_index('cfips').S0101_C01_026E.to_dict()\n",
    "\n",
    "\tdf_train[f'adult{year}'] = df_train.cfips.map(population)\n",
    "\tdf_submission[f'adult{year}'] = df_submission.cfips.map(population)"
   ]
  },
  {
   "cell_type": "code",
   "execution_count": 24,
   "metadata": {},
   "outputs": [
    {
     "name": "stderr",
     "output_type": "stream",
     "text": [
      "100%|██████████| 122265/122265 [00:13<00:00, 8775.61it/s]\n"
     ]
    },
    {
     "data": {
      "text/html": [
       "<div>\n",
       "<style scoped>\n",
       "    .dataframe tbody tr th:only-of-type {\n",
       "        vertical-align: middle;\n",
       "    }\n",
       "\n",
       "    .dataframe tbody tr th {\n",
       "        vertical-align: top;\n",
       "    }\n",
       "\n",
       "    .dataframe thead th {\n",
       "        text-align: right;\n",
       "    }\n",
       "</style>\n",
       "<table border=\"1\" class=\"dataframe\">\n",
       "  <thead>\n",
       "    <tr style=\"text-align: right;\">\n",
       "      <th></th>\n",
       "      <th>row_id</th>\n",
       "      <th>cfips</th>\n",
       "      <th>county</th>\n",
       "      <th>state</th>\n",
       "      <th>first_day_of_month</th>\n",
       "      <th>microbusiness_density</th>\n",
       "      <th>active</th>\n",
       "      <th>cfips_ord</th>\n",
       "      <th>state_ord</th>\n",
       "      <th>month</th>\n",
       "      <th>year</th>\n",
       "      <th>n_months</th>\n",
       "      <th>adult2017</th>\n",
       "      <th>adult2018</th>\n",
       "      <th>adult2019</th>\n",
       "      <th>adult2020</th>\n",
       "      <th>adult2021</th>\n",
       "      <th>adultpop</th>\n",
       "    </tr>\n",
       "  </thead>\n",
       "  <tbody>\n",
       "    <tr>\n",
       "      <th>0</th>\n",
       "      <td>1001_2019-08-01</td>\n",
       "      <td>1001</td>\n",
       "      <td>Autauga County</td>\n",
       "      <td>Alabama</td>\n",
       "      <td>2019-08-01</td>\n",
       "      <td>3.007682</td>\n",
       "      <td>1249</td>\n",
       "      <td>0</td>\n",
       "      <td>0</td>\n",
       "      <td>8</td>\n",
       "      <td>2019</td>\n",
       "      <td>46</td>\n",
       "      <td>41527</td>\n",
       "      <td>41831</td>\n",
       "      <td>42175</td>\n",
       "      <td>42496</td>\n",
       "      <td>44438</td>\n",
       "      <td>41527.0</td>\n",
       "    </tr>\n",
       "    <tr>\n",
       "      <th>1</th>\n",
       "      <td>1001_2019-09-01</td>\n",
       "      <td>1001</td>\n",
       "      <td>Autauga County</td>\n",
       "      <td>Alabama</td>\n",
       "      <td>2019-09-01</td>\n",
       "      <td>2.884870</td>\n",
       "      <td>1198</td>\n",
       "      <td>0</td>\n",
       "      <td>0</td>\n",
       "      <td>9</td>\n",
       "      <td>2019</td>\n",
       "      <td>45</td>\n",
       "      <td>41527</td>\n",
       "      <td>41831</td>\n",
       "      <td>42175</td>\n",
       "      <td>42496</td>\n",
       "      <td>44438</td>\n",
       "      <td>41527.0</td>\n",
       "    </tr>\n",
       "    <tr>\n",
       "      <th>2</th>\n",
       "      <td>1001_2019-10-01</td>\n",
       "      <td>1001</td>\n",
       "      <td>Autauga County</td>\n",
       "      <td>Alabama</td>\n",
       "      <td>2019-10-01</td>\n",
       "      <td>3.055843</td>\n",
       "      <td>1269</td>\n",
       "      <td>0</td>\n",
       "      <td>0</td>\n",
       "      <td>10</td>\n",
       "      <td>2019</td>\n",
       "      <td>44</td>\n",
       "      <td>41527</td>\n",
       "      <td>41831</td>\n",
       "      <td>42175</td>\n",
       "      <td>42496</td>\n",
       "      <td>44438</td>\n",
       "      <td>41527.0</td>\n",
       "    </tr>\n",
       "    <tr>\n",
       "      <th>3</th>\n",
       "      <td>1001_2019-11-01</td>\n",
       "      <td>1001</td>\n",
       "      <td>Autauga County</td>\n",
       "      <td>Alabama</td>\n",
       "      <td>2019-11-01</td>\n",
       "      <td>2.993233</td>\n",
       "      <td>1243</td>\n",
       "      <td>0</td>\n",
       "      <td>0</td>\n",
       "      <td>11</td>\n",
       "      <td>2019</td>\n",
       "      <td>43</td>\n",
       "      <td>41527</td>\n",
       "      <td>41831</td>\n",
       "      <td>42175</td>\n",
       "      <td>42496</td>\n",
       "      <td>44438</td>\n",
       "      <td>41527.0</td>\n",
       "    </tr>\n",
       "    <tr>\n",
       "      <th>4</th>\n",
       "      <td>1001_2019-12-01</td>\n",
       "      <td>1001</td>\n",
       "      <td>Autauga County</td>\n",
       "      <td>Alabama</td>\n",
       "      <td>2019-12-01</td>\n",
       "      <td>2.993233</td>\n",
       "      <td>1243</td>\n",
       "      <td>0</td>\n",
       "      <td>0</td>\n",
       "      <td>12</td>\n",
       "      <td>2019</td>\n",
       "      <td>42</td>\n",
       "      <td>41527</td>\n",
       "      <td>41831</td>\n",
       "      <td>42175</td>\n",
       "      <td>42496</td>\n",
       "      <td>44438</td>\n",
       "      <td>41527.0</td>\n",
       "    </tr>\n",
       "  </tbody>\n",
       "</table>\n",
       "</div>"
      ],
      "text/plain": [
       "            row_id  cfips          county    state first_day_of_month  \\\n",
       "0  1001_2019-08-01   1001  Autauga County  Alabama         2019-08-01   \n",
       "1  1001_2019-09-01   1001  Autauga County  Alabama         2019-09-01   \n",
       "2  1001_2019-10-01   1001  Autauga County  Alabama         2019-10-01   \n",
       "3  1001_2019-11-01   1001  Autauga County  Alabama         2019-11-01   \n",
       "4  1001_2019-12-01   1001  Autauga County  Alabama         2019-12-01   \n",
       "\n",
       "   microbusiness_density  active  cfips_ord  state_ord  month  year  n_months  \\\n",
       "0               3.007682    1249          0          0      8  2019        46   \n",
       "1               2.884870    1198          0          0      9  2019        45   \n",
       "2               3.055843    1269          0          0     10  2019        44   \n",
       "3               2.993233    1243          0          0     11  2019        43   \n",
       "4               2.993233    1243          0          0     12  2019        42   \n",
       "\n",
       "   adult2017  adult2018  adult2019  adult2020  adult2021  adultpop  \n",
       "0      41527      41831      42175      42496      44438   41527.0  \n",
       "1      41527      41831      42175      42496      44438   41527.0  \n",
       "2      41527      41831      42175      42496      44438   41527.0  \n",
       "3      41527      41831      42175      42496      44438   41527.0  \n",
       "4      41527      41831      42175      42496      44438   41527.0  "
      ]
     },
     "execution_count": 24,
     "metadata": {},
     "output_type": "execute_result"
    }
   ],
   "source": [
    "#  based on adult population\n",
    "for i, row in tqdm(df_train.iterrows(), total=df_train.shape[0]):\n",
    "\tyear = row['year']-2\n",
    "\tadultpop = row[f'adult{year}']\n",
    "\n",
    "\tdf_train.loc[i, 'adultpop'] = adultpop\n",
    "\n",
    "df_train.head()"
   ]
  },
  {
   "cell_type": "code",
   "execution_count": 25,
   "metadata": {},
   "outputs": [
    {
     "name": "stderr",
     "output_type": "stream",
     "text": [
      "100%|██████████| 25080/25080 [00:04<00:00, 5073.08it/s]\n"
     ]
    }
   ],
   "source": [
    "# estimate active based on adult population\n",
    "for i, row in tqdm(df_submission.iterrows(), total=df_submission.shape[0]):\n",
    "\tyear = row['year']-2\n",
    "\tadultpop = row[f'adult{year}']\n",
    "\tactive = row['microbusiness_density'] * adultpop / 100\n",
    "\n",
    "\tdf_submission.loc[i, 'active'] = active\n",
    "\tdf_submission.loc[i, 'adultpop'] = adultpop"
   ]
  },
  {
   "cell_type": "code",
   "execution_count": 26,
   "metadata": {},
   "outputs": [],
   "source": [
    "submission = df_submission[~df_submission.microbusiness_density.isna()]\n",
    "\n",
    "target_var = 'microbusiness_density' # active, microbusiness_density\n",
    "\n",
    "X_train = df_train[input_features]# + ['adultpop']]\n",
    "X_test = submission[input_features]# + ['adultpop']]\n",
    "\n",
    "y_train = df_train[target_var]\n",
    "y_test = submission[target_var]"
   ]
  },
  {
   "cell_type": "code",
   "execution_count": 27,
   "metadata": {},
   "outputs": [
    {
     "name": "stdout",
     "output_type": "stream",
     "text": [
      "Random Forest microbusiness_density SMAPE: 5.293179103001052\n"
     ]
    }
   ],
   "source": [
    "# random forest targetting active instead of md\n",
    "rf_model = RandomForestRegressor(n_estimators=100, random_state=random_state)\n",
    "rf_model.fit(X_train, y_train)\n",
    "preds = rf_model.predict(X_test)\n",
    "print(f\"Random Forest {target_var} SMAPE:\", SMAPE(submission[target_var], preds))"
   ]
  },
  {
   "cell_type": "code",
   "execution_count": 28,
   "metadata": {},
   "outputs": [
    {
     "name": "stdout",
     "output_type": "stream",
     "text": [
      "Random Forest adjusted microbusiness_density SMAPE: 4.699056726960653\n"
     ]
    }
   ],
   "source": [
    "# Adjusted Results\n",
    "\n",
    "if target_var == 'microbusiness_density':\n",
    "\tadjusted_preds = preds * submission['adult2020'] / submission['adultpop']\n",
    "\tprint(f\"Random Forest adjusted {target_var} SMAPE:\", SMAPE(submission[target_var], adjusted_preds))\n",
    "elif target_var == 'active':\n",
    "\tadjusted_preds = preds / submission['adultpop'] * 100\n",
    "\tprint(f\"Random Forest adjusted {target_var} SMAPE:\", SMAPE(submission['microbusiness_density'], adjusted_preds))"
   ]
  },
  {
   "cell_type": "code",
   "execution_count": 29,
   "metadata": {},
   "outputs": [
    {
     "data": {
      "image/png": "[encoded data removed]",
      "text/plain": [
       "<Figure size 640x480 with 1 Axes>"
      ]
     },
     "metadata": {},
     "output_type": "display_data"
    }
   ],
   "source": [
    "import matplotlib.pyplot as plt\n",
    "\n",
    "forest_importances = pd.Series(rf_model.feature_importances_, index=rf_model.feature_names_in_)\n",
    "std = np.std([tree.feature_importances_ for tree in rf_model.estimators_], axis=0)\n",
    "\n",
    "fig, ax = plt.subplots()\n",
    "forest_importances.plot.bar(yerr=std, ax=ax)\n",
    "ax.set_title(\"Feature importances using MDI\")\n",
    "ax.set_ylabel(\"Mean decrease in impurity\")\n",
    "fig.tight_layout()"
   ]
  },
  {
   "cell_type": "markdown",
   "metadata": {},
   "source": [
    "Comparison Results:\n",
    "\n",
    "- [ACTIVE] w/o adultpop: 4.6568\n",
    "- [ACTIVE] w/  adultpop: 14.8872\n",
    "- [MD]     w/o adultpop: 5.2891 # 4.6990 (after adjusting)\n",
    "- [MD]     w/  adultpop: 11.5327\n",
    "\n",
    "Conclusion:\n",
    "\n",
    "- The feature `adultpop` appears to be highly correlated with the target column, `active`, leading to overfitting when included in the model.\n",
    "- While both targets are comparable, modeling `active` seems slightly easier than directly targeting `microbusiness_density`.\n",
    "- The most SURPRISING thing is that ML models with basic parameters hardly outperform the last value forecasting.\n",
    "- Random Forest Feature Importance: `CFIPS` > `n_months` > `state` > `year` > `month`"
   ]
  }
 ],
 "metadata": {
  "kernelspec": {
   "display_name": "godaddy",
   "language": "python",
   "name": "python3"
  },
  "language_info": {
   "codemirror_mode": {
    "name": "ipython",
    "version": 3
   },
   "file_extension": ".py",
   "mimetype": "text/x-python",
   "name": "python",
   "nbconvert_exporter": "python",
   "pygments_lexer": "ipython3",
   "version": "3.10.0"
  }
 },
 "nbformat": 4,
 "nbformat_minor": 2
}
