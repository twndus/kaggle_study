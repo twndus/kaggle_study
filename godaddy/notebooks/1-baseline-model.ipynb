{
 "cells": [
  {
   "cell_type": "code",
   "execution_count": 97,
   "metadata": {},
   "outputs": [],
   "source": [
    "import os, datetime\n",
    "\n",
    "import numpy as np\n",
    "import pandas as pd"
   ]
  },
  {
   "cell_type": "code",
   "execution_count": 43,
   "metadata": {},
   "outputs": [],
   "source": [
    "data_dir = '../data/'\n",
    "\n",
    "df_train = pd.read_csv(os.path.join(data_dir, 'train.csv'))\n",
    "df_test = pd.read_csv(os.path.join(data_dir, 'test.csv'))\n",
    "df_revealed_test = pd.read_csv(os.path.join(data_dir, 'revealed_test.csv'))\n",
    "df_submission = pd.read_csv(os.path.join(data_dir, 'sample_submission.csv'))\n",
    "df_census = pd.read_csv(os.path.join(data_dir, 'census_starter.csv'))"
   ]
  },
  {
   "cell_type": "code",
   "execution_count": 44,
   "metadata": {},
   "outputs": [
    {
     "name": "stdout",
     "output_type": "stream",
     "text": [
      "<class 'pandas.core.frame.DataFrame'>\n",
      "RangeIndex: 122265 entries, 0 to 122264\n",
      "Data columns (total 7 columns):\n",
      " #   Column                 Non-Null Count   Dtype  \n",
      "---  ------                 --------------   -----  \n",
      " 0   row_id                 122265 non-null  object \n",
      " 1   cfips                  122265 non-null  int64  \n",
      " 2   county                 122265 non-null  object \n",
      " 3   state                  122265 non-null  object \n",
      " 4   first_day_of_month     122265 non-null  object \n",
      " 5   microbusiness_density  122265 non-null  float64\n",
      " 6   active                 122265 non-null  int64  \n",
      "dtypes: float64(1), int64(2), object(4)\n",
      "memory usage: 6.5+ MB\n"
     ]
    }
   ],
   "source": [
    "df_train.info() # 122,265 entries"
   ]
  },
  {
   "cell_type": "code",
   "execution_count": 15,
   "metadata": {},
   "outputs": [
    {
     "name": "stdout",
     "output_type": "stream",
     "text": [
      "unique counties: 3135\n"
     ]
    }
   ],
   "source": [
    "print(f'unique counties: {df_train.cfips.nunique()}')"
   ]
  },
  {
   "cell_type": "code",
   "execution_count": 26,
   "metadata": {},
   "outputs": [
    {
     "data": {
      "text/html": [
       "<div>\n",
       "<style scoped>\n",
       "    .dataframe tbody tr th:only-of-type {\n",
       "        vertical-align: middle;\n",
       "    }\n",
       "\n",
       "    .dataframe tbody tr th {\n",
       "        vertical-align: top;\n",
       "    }\n",
       "\n",
       "    .dataframe thead th {\n",
       "        text-align: right;\n",
       "    }\n",
       "</style>\n",
       "<table border=\"1\" class=\"dataframe\">\n",
       "  <thead>\n",
       "    <tr style=\"text-align: right;\">\n",
       "      <th></th>\n",
       "      <th>microbusiness_density</th>\n",
       "      <th>active</th>\n",
       "    </tr>\n",
       "  </thead>\n",
       "  <tbody>\n",
       "    <tr>\n",
       "      <th>count</th>\n",
       "      <td>122265.00</td>\n",
       "      <td>122265.00</td>\n",
       "    </tr>\n",
       "    <tr>\n",
       "      <th>mean</th>\n",
       "      <td>3.82</td>\n",
       "      <td>6442.86</td>\n",
       "    </tr>\n",
       "    <tr>\n",
       "      <th>std</th>\n",
       "      <td>4.99</td>\n",
       "      <td>33040.01</td>\n",
       "    </tr>\n",
       "    <tr>\n",
       "      <th>min</th>\n",
       "      <td>0.00</td>\n",
       "      <td>0.00</td>\n",
       "    </tr>\n",
       "    <tr>\n",
       "      <th>25%</th>\n",
       "      <td>1.64</td>\n",
       "      <td>145.00</td>\n",
       "    </tr>\n",
       "    <tr>\n",
       "      <th>50%</th>\n",
       "      <td>2.59</td>\n",
       "      <td>488.00</td>\n",
       "    </tr>\n",
       "    <tr>\n",
       "      <th>75%</th>\n",
       "      <td>4.52</td>\n",
       "      <td>2124.00</td>\n",
       "    </tr>\n",
       "    <tr>\n",
       "      <th>max</th>\n",
       "      <td>284.34</td>\n",
       "      <td>1167744.00</td>\n",
       "    </tr>\n",
       "  </tbody>\n",
       "</table>\n",
       "</div>"
      ],
      "text/plain": [
       "       microbusiness_density     active\n",
       "count              122265.00  122265.00\n",
       "mean                    3.82    6442.86\n",
       "std                     4.99   33040.01\n",
       "min                     0.00       0.00\n",
       "25%                     1.64     145.00\n",
       "50%                     2.59     488.00\n",
       "75%                     4.52    2124.00\n",
       "max                   284.34 1167744.00"
      ]
     },
     "execution_count": 26,
     "metadata": {},
     "output_type": "execute_result"
    }
   ],
   "source": [
    "pd.options.display.float_format = '{:.2f}'.format\n",
    "df_train[['microbusiness_density', 'active']].describe()"
   ]
  },
  {
   "cell_type": "code",
   "execution_count": 73,
   "metadata": {},
   "outputs": [
    {
     "data": {
      "text/html": [
       "<div>\n",
       "<style scoped>\n",
       "    .dataframe tbody tr th:only-of-type {\n",
       "        vertical-align: middle;\n",
       "    }\n",
       "\n",
       "    .dataframe tbody tr th {\n",
       "        vertical-align: top;\n",
       "    }\n",
       "\n",
       "    .dataframe thead th {\n",
       "        text-align: right;\n",
       "    }\n",
       "</style>\n",
       "<table border=\"1\" class=\"dataframe\">\n",
       "  <thead>\n",
       "    <tr style=\"text-align: right;\">\n",
       "      <th></th>\n",
       "      <th>row_id</th>\n",
       "      <th>cfips</th>\n",
       "      <th>county</th>\n",
       "      <th>state</th>\n",
       "      <th>first_day_of_month</th>\n",
       "      <th>microbusiness_density</th>\n",
       "      <th>active</th>\n",
       "    </tr>\n",
       "  </thead>\n",
       "  <tbody>\n",
       "    <tr>\n",
       "      <th>94382</th>\n",
       "      <td>46127_2019-10-01</td>\n",
       "      <td>46127</td>\n",
       "      <td>Union County</td>\n",
       "      <td>South Dakota</td>\n",
       "      <td>2019-10-01</td>\n",
       "      <td>284.34</td>\n",
       "      <td>32011</td>\n",
       "    </tr>\n",
       "    <tr>\n",
       "      <th>94380</th>\n",
       "      <td>46127_2019-08-01</td>\n",
       "      <td>46127</td>\n",
       "      <td>Union County</td>\n",
       "      <td>South Dakota</td>\n",
       "      <td>2019-08-01</td>\n",
       "      <td>277.54</td>\n",
       "      <td>31245</td>\n",
       "    </tr>\n",
       "    <tr>\n",
       "      <th>122030</th>\n",
       "      <td>56033_2022-10-01</td>\n",
       "      <td>56033</td>\n",
       "      <td>Sheridan County</td>\n",
       "      <td>Wyoming</td>\n",
       "      <td>2022-10-01</td>\n",
       "      <td>227.76</td>\n",
       "      <td>54509</td>\n",
       "    </tr>\n",
       "    <tr>\n",
       "      <th>68673</th>\n",
       "      <td>32510_2022-05-01</td>\n",
       "      <td>32510</td>\n",
       "      <td>Carson City</td>\n",
       "      <td>Nevada</td>\n",
       "      <td>2022-05-01</td>\n",
       "      <td>224.54</td>\n",
       "      <td>98716</td>\n",
       "    </tr>\n",
       "    <tr>\n",
       "      <th>68670</th>\n",
       "      <td>32510_2022-02-01</td>\n",
       "      <td>32510</td>\n",
       "      <td>Carson City</td>\n",
       "      <td>Nevada</td>\n",
       "      <td>2022-02-01</td>\n",
       "      <td>217.59</td>\n",
       "      <td>95660</td>\n",
       "    </tr>\n",
       "  </tbody>\n",
       "</table>\n",
       "</div>"
      ],
      "text/plain": [
       "                  row_id  cfips           county         state  \\\n",
       "94382   46127_2019-10-01  46127     Union County  South Dakota   \n",
       "94380   46127_2019-08-01  46127     Union County  South Dakota   \n",
       "122030  56033_2022-10-01  56033  Sheridan County       Wyoming   \n",
       "68673   32510_2022-05-01  32510      Carson City        Nevada   \n",
       "68670   32510_2022-02-01  32510      Carson City        Nevada   \n",
       "\n",
       "       first_day_of_month  microbusiness_density  active  \n",
       "94382          2019-10-01                 284.34   32011  \n",
       "94380          2019-08-01                 277.54   31245  \n",
       "122030         2022-10-01                 227.76   54509  \n",
       "68673          2022-05-01                 224.54   98716  \n",
       "68670          2022-02-01                 217.59   95660  "
      ]
     },
     "execution_count": 73,
     "metadata": {},
     "output_type": "execute_result"
    }
   ],
   "source": [
    "df_train.sort_values('microbusiness_density', ascending=False).head(5)"
   ]
  },
  {
   "cell_type": "code",
   "execution_count": 70,
   "metadata": {},
   "outputs": [
    {
     "data": {
      "text/html": [
       "<div>\n",
       "<style scoped>\n",
       "    .dataframe tbody tr th:only-of-type {\n",
       "        vertical-align: middle;\n",
       "    }\n",
       "\n",
       "    .dataframe tbody tr th {\n",
       "        vertical-align: top;\n",
       "    }\n",
       "\n",
       "    .dataframe thead th {\n",
       "        text-align: right;\n",
       "    }\n",
       "</style>\n",
       "<table border=\"1\" class=\"dataframe\">\n",
       "  <thead>\n",
       "    <tr style=\"text-align: right;\">\n",
       "      <th></th>\n",
       "      <th>row_id</th>\n",
       "      <th>cfips</th>\n",
       "      <th>county</th>\n",
       "      <th>state</th>\n",
       "      <th>first_day_of_month</th>\n",
       "      <th>microbusiness_density</th>\n",
       "      <th>active</th>\n",
       "    </tr>\n",
       "  </thead>\n",
       "  <tbody>\n",
       "    <tr>\n",
       "      <th>121992</th>\n",
       "      <td>56033_2019-08-01</td>\n",
       "      <td>56033</td>\n",
       "      <td>Sheridan County</td>\n",
       "      <td>Wyoming</td>\n",
       "      <td>2019-08-01</td>\n",
       "      <td>30.18</td>\n",
       "      <td>7065</td>\n",
       "    </tr>\n",
       "    <tr>\n",
       "      <th>121993</th>\n",
       "      <td>56033_2019-09-01</td>\n",
       "      <td>56033</td>\n",
       "      <td>Sheridan County</td>\n",
       "      <td>Wyoming</td>\n",
       "      <td>2019-09-01</td>\n",
       "      <td>31.71</td>\n",
       "      <td>7423</td>\n",
       "    </tr>\n",
       "    <tr>\n",
       "      <th>121994</th>\n",
       "      <td>56033_2019-10-01</td>\n",
       "      <td>56033</td>\n",
       "      <td>Sheridan County</td>\n",
       "      <td>Wyoming</td>\n",
       "      <td>2019-10-01</td>\n",
       "      <td>31.99</td>\n",
       "      <td>7488</td>\n",
       "    </tr>\n",
       "    <tr>\n",
       "      <th>121995</th>\n",
       "      <td>56033_2019-11-01</td>\n",
       "      <td>56033</td>\n",
       "      <td>Sheridan County</td>\n",
       "      <td>Wyoming</td>\n",
       "      <td>2019-11-01</td>\n",
       "      <td>32.78</td>\n",
       "      <td>7672</td>\n",
       "    </tr>\n",
       "    <tr>\n",
       "      <th>121996</th>\n",
       "      <td>56033_2019-12-01</td>\n",
       "      <td>56033</td>\n",
       "      <td>Sheridan County</td>\n",
       "      <td>Wyoming</td>\n",
       "      <td>2019-12-01</td>\n",
       "      <td>32.81</td>\n",
       "      <td>7679</td>\n",
       "    </tr>\n",
       "  </tbody>\n",
       "</table>\n",
       "</div>"
      ],
      "text/plain": [
       "                  row_id  cfips           county    state first_day_of_month  \\\n",
       "121992  56033_2019-08-01  56033  Sheridan County  Wyoming         2019-08-01   \n",
       "121993  56033_2019-09-01  56033  Sheridan County  Wyoming         2019-09-01   \n",
       "121994  56033_2019-10-01  56033  Sheridan County  Wyoming         2019-10-01   \n",
       "121995  56033_2019-11-01  56033  Sheridan County  Wyoming         2019-11-01   \n",
       "121996  56033_2019-12-01  56033  Sheridan County  Wyoming         2019-12-01   \n",
       "\n",
       "        microbusiness_density  active  \n",
       "121992                  30.18    7065  \n",
       "121993                  31.71    7423  \n",
       "121994                  31.99    7488  \n",
       "121995                  32.78    7672  \n",
       "121996                  32.81    7679  "
      ]
     },
     "execution_count": 70,
     "metadata": {},
     "output_type": "execute_result"
    }
   ],
   "source": [
    "df_train[df_train['cfips'] == 56033].head() # Sheridan County, Wyoming - increasing trend influenced by active"
   ]
  },
  {
   "cell_type": "code",
   "execution_count": 66,
   "metadata": {},
   "outputs": [
    {
     "data": {
      "text/html": [
       "<div>\n",
       "<style scoped>\n",
       "    .dataframe tbody tr th:only-of-type {\n",
       "        vertical-align: middle;\n",
       "    }\n",
       "\n",
       "    .dataframe tbody tr th {\n",
       "        vertical-align: top;\n",
       "    }\n",
       "\n",
       "    .dataframe thead th {\n",
       "        text-align: right;\n",
       "    }\n",
       "</style>\n",
       "<table border=\"1\" class=\"dataframe\">\n",
       "  <thead>\n",
       "    <tr style=\"text-align: right;\">\n",
       "      <th></th>\n",
       "      <th>row_id</th>\n",
       "      <th>cfips</th>\n",
       "      <th>county</th>\n",
       "      <th>state</th>\n",
       "      <th>first_day_of_month</th>\n",
       "      <th>microbusiness_density</th>\n",
       "      <th>active</th>\n",
       "    </tr>\n",
       "  </thead>\n",
       "  <tbody>\n",
       "    <tr>\n",
       "      <th>94380</th>\n",
       "      <td>46127_2019-08-01</td>\n",
       "      <td>46127</td>\n",
       "      <td>Union County</td>\n",
       "      <td>South Dakota</td>\n",
       "      <td>2019-08-01</td>\n",
       "      <td>277.54</td>\n",
       "      <td>31245</td>\n",
       "    </tr>\n",
       "    <tr>\n",
       "      <th>94381</th>\n",
       "      <td>46127_2019-09-01</td>\n",
       "      <td>46127</td>\n",
       "      <td>Union County</td>\n",
       "      <td>South Dakota</td>\n",
       "      <td>2019-09-01</td>\n",
       "      <td>5.88</td>\n",
       "      <td>662</td>\n",
       "    </tr>\n",
       "    <tr>\n",
       "      <th>94382</th>\n",
       "      <td>46127_2019-10-01</td>\n",
       "      <td>46127</td>\n",
       "      <td>Union County</td>\n",
       "      <td>South Dakota</td>\n",
       "      <td>2019-10-01</td>\n",
       "      <td>284.34</td>\n",
       "      <td>32011</td>\n",
       "    </tr>\n",
       "    <tr>\n",
       "      <th>94383</th>\n",
       "      <td>46127_2019-11-01</td>\n",
       "      <td>46127</td>\n",
       "      <td>Union County</td>\n",
       "      <td>South Dakota</td>\n",
       "      <td>2019-11-01</td>\n",
       "      <td>5.87</td>\n",
       "      <td>661</td>\n",
       "    </tr>\n",
       "    <tr>\n",
       "      <th>94384</th>\n",
       "      <td>46127_2019-12-01</td>\n",
       "      <td>46127</td>\n",
       "      <td>Union County</td>\n",
       "      <td>South Dakota</td>\n",
       "      <td>2019-12-01</td>\n",
       "      <td>5.86</td>\n",
       "      <td>660</td>\n",
       "    </tr>\n",
       "  </tbody>\n",
       "</table>\n",
       "</div>"
      ],
      "text/plain": [
       "                 row_id  cfips        county         state first_day_of_month  \\\n",
       "94380  46127_2019-08-01  46127  Union County  South Dakota         2019-08-01   \n",
       "94381  46127_2019-09-01  46127  Union County  South Dakota         2019-09-01   \n",
       "94382  46127_2019-10-01  46127  Union County  South Dakota         2019-10-01   \n",
       "94383  46127_2019-11-01  46127  Union County  South Dakota         2019-11-01   \n",
       "94384  46127_2019-12-01  46127  Union County  South Dakota         2019-12-01   \n",
       "\n",
       "       microbusiness_density  active  \n",
       "94380                 277.54   31245  \n",
       "94381                   5.88     662  \n",
       "94382                 284.34   32011  \n",
       "94383                   5.87     661  \n",
       "94384                   5.86     660  "
      ]
     },
     "execution_count": 66,
     "metadata": {},
     "output_type": "execute_result"
    }
   ],
   "source": [
    "df_train[df_train['cfips'] == 46127].head() # Union County, South Dakota"
   ]
  },
  {
   "cell_type": "code",
   "execution_count": 63,
   "metadata": {},
   "outputs": [
    {
     "data": {
      "text/html": [
       "<div>\n",
       "<style scoped>\n",
       "    .dataframe tbody tr th:only-of-type {\n",
       "        vertical-align: middle;\n",
       "    }\n",
       "\n",
       "    .dataframe tbody tr th {\n",
       "        vertical-align: top;\n",
       "    }\n",
       "\n",
       "    .dataframe thead th {\n",
       "        text-align: right;\n",
       "    }\n",
       "</style>\n",
       "<table border=\"1\" class=\"dataframe\">\n",
       "  <thead>\n",
       "    <tr style=\"text-align: right;\">\n",
       "      <th></th>\n",
       "      <th>row_id</th>\n",
       "      <th>cfips</th>\n",
       "      <th>county</th>\n",
       "      <th>state</th>\n",
       "      <th>first_day_of_month</th>\n",
       "      <th>microbusiness_density</th>\n",
       "      <th>active</th>\n",
       "    </tr>\n",
       "  </thead>\n",
       "  <tbody>\n",
       "    <tr>\n",
       "      <th>7887</th>\n",
       "      <td>6037_2020-05-01</td>\n",
       "      <td>6037</td>\n",
       "      <td>Los Angeles County</td>\n",
       "      <td>California</td>\n",
       "      <td>2020-05-01</td>\n",
       "      <td>14.87</td>\n",
       "      <td>1167744</td>\n",
       "    </tr>\n",
       "    <tr>\n",
       "      <th>7886</th>\n",
       "      <td>6037_2020-04-01</td>\n",
       "      <td>6037</td>\n",
       "      <td>Los Angeles County</td>\n",
       "      <td>California</td>\n",
       "      <td>2020-04-01</td>\n",
       "      <td>14.79</td>\n",
       "      <td>1160868</td>\n",
       "    </tr>\n",
       "    <tr>\n",
       "      <th>7916</th>\n",
       "      <td>6037_2022-10-01</td>\n",
       "      <td>6037</td>\n",
       "      <td>Los Angeles County</td>\n",
       "      <td>California</td>\n",
       "      <td>2022-10-01</td>\n",
       "      <td>14.67</td>\n",
       "      <td>1153292</td>\n",
       "    </tr>\n",
       "    <tr>\n",
       "      <th>7913</th>\n",
       "      <td>6037_2022-07-01</td>\n",
       "      <td>6037</td>\n",
       "      <td>Los Angeles County</td>\n",
       "      <td>California</td>\n",
       "      <td>2022-07-01</td>\n",
       "      <td>14.66</td>\n",
       "      <td>1152842</td>\n",
       "    </tr>\n",
       "    <tr>\n",
       "      <th>7914</th>\n",
       "      <td>6037_2022-08-01</td>\n",
       "      <td>6037</td>\n",
       "      <td>Los Angeles County</td>\n",
       "      <td>California</td>\n",
       "      <td>2022-08-01</td>\n",
       "      <td>14.65</td>\n",
       "      <td>1151836</td>\n",
       "    </tr>\n",
       "  </tbody>\n",
       "</table>\n",
       "</div>"
      ],
      "text/plain": [
       "               row_id  cfips              county       state  \\\n",
       "7887  6037_2020-05-01   6037  Los Angeles County  California   \n",
       "7886  6037_2020-04-01   6037  Los Angeles County  California   \n",
       "7916  6037_2022-10-01   6037  Los Angeles County  California   \n",
       "7913  6037_2022-07-01   6037  Los Angeles County  California   \n",
       "7914  6037_2022-08-01   6037  Los Angeles County  California   \n",
       "\n",
       "     first_day_of_month  microbusiness_density   active  \n",
       "7887         2020-05-01                  14.87  1167744  \n",
       "7886         2020-04-01                  14.79  1160868  \n",
       "7916         2022-10-01                  14.67  1153292  \n",
       "7913         2022-07-01                  14.66  1152842  \n",
       "7914         2022-08-01                  14.65  1151836  "
      ]
     },
     "execution_count": 63,
     "metadata": {},
     "output_type": "execute_result"
    }
   ],
   "source": [
    "df_train.sort_values('active', ascending=False).head()"
   ]
  },
  {
   "cell_type": "code",
   "execution_count": null,
   "metadata": {},
   "outputs": [],
   "source": [
    "# convert first_day_of_month from str to datetime\n",
    "df_train.first_day_of_month = pd.to_datetime(df_train.first_day_of_month)\n",
    "df_test.first_day_of_month = pd.to_datetime(df_test.first_day_of_month)\n",
    "df_revealed_test.first_day_of_month = pd.to_datetime(df_revealed_test.first_day_of_month)"
   ]
  },
  {
   "cell_type": "code",
   "execution_count": null,
   "metadata": {},
   "outputs": [
    {
     "name": "stdout",
     "output_type": "stream",
     "text": [
      "train period:\t\t2019-08 ~ 2022-10\n",
      "test period: \t\t2022-11 ~ 2023-06\n",
      "revealed period: \t2022-11 ~ 2022-12\n"
     ]
    }
   ],
   "source": [
    "strformat = '%Y-%m'\n",
    "print(f'train period:\t\t{df_train.first_day_of_month.min().strftime(strformat)} ~ {df_train.first_day_of_month.max().strftime(strformat)}')\n",
    "print(f'test period: \t\t{df_test.first_day_of_month.min().strftime(strformat)} ~ {df_test.first_day_of_month.max().strftime(strformat)}')\n",
    "print(f'revealed period: \t{df_revealed_test.first_day_of_month.min().strftime(strformat)} ~ {df_revealed_test.first_day_of_month.max().strftime(strformat)}')"
   ]
  },
  {
   "cell_type": "code",
   "execution_count": 87,
   "metadata": {},
   "outputs": [
    {
     "data": {
      "text/html": [
       "<div>\n",
       "<style scoped>\n",
       "    .dataframe tbody tr th:only-of-type {\n",
       "        vertical-align: middle;\n",
       "    }\n",
       "\n",
       "    .dataframe tbody tr th {\n",
       "        vertical-align: top;\n",
       "    }\n",
       "\n",
       "    .dataframe thead th {\n",
       "        text-align: right;\n",
       "    }\n",
       "</style>\n",
       "<table border=\"1\" class=\"dataframe\">\n",
       "  <thead>\n",
       "    <tr style=\"text-align: right;\">\n",
       "      <th></th>\n",
       "      <th>microbusiness_density</th>\n",
       "      <th>active</th>\n",
       "    </tr>\n",
       "  </thead>\n",
       "  <tbody>\n",
       "    <tr>\n",
       "      <th>34</th>\n",
       "      <td>3.35</td>\n",
       "      <td>1422</td>\n",
       "    </tr>\n",
       "    <tr>\n",
       "      <th>35</th>\n",
       "      <td>3.44</td>\n",
       "      <td>1461</td>\n",
       "    </tr>\n",
       "    <tr>\n",
       "      <th>36</th>\n",
       "      <td>3.42</td>\n",
       "      <td>1455</td>\n",
       "    </tr>\n",
       "    <tr>\n",
       "      <th>37</th>\n",
       "      <td>3.44</td>\n",
       "      <td>1463</td>\n",
       "    </tr>\n",
       "    <tr>\n",
       "      <th>38</th>\n",
       "      <td>3.46</td>\n",
       "      <td>1472</td>\n",
       "    </tr>\n",
       "  </tbody>\n",
       "</table>\n",
       "</div>"
      ],
      "text/plain": [
       "    microbusiness_density  active\n",
       "34                   3.35    1422\n",
       "35                   3.44    1461\n",
       "36                   3.42    1455\n",
       "37                   3.44    1463\n",
       "38                   3.46    1472"
      ]
     },
     "execution_count": 87,
     "metadata": {},
     "output_type": "execute_result"
    }
   ],
   "source": [
    "df_train[df_train['cfips'] == 1001][['microbusiness_density', 'active']].tail()"
   ]
  },
  {
   "cell_type": "code",
   "execution_count": 158,
   "metadata": {},
   "outputs": [
    {
     "name": "stderr",
     "output_type": "stream",
     "text": [
      "/var/folders/jz/wsn3kwpx7cq0nsrxkk2g7nrr0000gn/T/ipykernel_58018/2208840458.py:7: FutureWarning: The behavior of DataFrame concatenation with empty or all-NA entries is deprecated. In a future version, this will no longer exclude empty or all-NA columns when determining the result dtypes. To retain the old behavior, exclude the relevant entries before the concat operation.\n",
      "  df = pd.concat([df, df_next_records], axis=0)\n"
     ]
    },
    {
     "data": {
      "text/html": [
       "<div>\n",
       "<style scoped>\n",
       "    .dataframe tbody tr th:only-of-type {\n",
       "        vertical-align: middle;\n",
       "    }\n",
       "\n",
       "    .dataframe tbody tr th {\n",
       "        vertical-align: top;\n",
       "    }\n",
       "\n",
       "    .dataframe thead th {\n",
       "        text-align: right;\n",
       "    }\n",
       "</style>\n",
       "<table border=\"1\" class=\"dataframe\">\n",
       "  <thead>\n",
       "    <tr style=\"text-align: right;\">\n",
       "      <th></th>\n",
       "      <th>microbusiness_density</th>\n",
       "      <th>active</th>\n",
       "    </tr>\n",
       "  </thead>\n",
       "  <tbody>\n",
       "    <tr>\n",
       "      <th>39</th>\n",
       "      <td>3.43</td>\n",
       "      <td>1459.00</td>\n",
       "    </tr>\n",
       "    <tr>\n",
       "      <th>40</th>\n",
       "      <td>3.45</td>\n",
       "      <td>1467.50</td>\n",
       "    </tr>\n",
       "  </tbody>\n",
       "</table>\n",
       "</div>"
      ],
      "text/plain": [
       "    microbusiness_density  active\n",
       "39                   3.43 1459.00\n",
       "40                   3.45 1467.50"
      ]
     },
     "execution_count": 158,
     "metadata": {},
     "output_type": "execute_result"
    }
   ],
   "source": [
    "from dateutil.relativedelta import relativedelta\n",
    "\n",
    "pred_range = 2\n",
    "\n",
    "df = df_train[df_train['cfips'] == 1001]\n",
    "df_next_records = pd.DataFrame(index=[df.index.max() + month for month in range(1,pred_range+1)], columns=df.columns)\n",
    "df = pd.concat([df, df_next_records], axis=0)\n",
    "df[['microbusiness_density', 'active']].rolling(window=pred_range).mean().shift(pred_range).tail(pred_range)"
   ]
  },
  {
   "cell_type": "code",
   "execution_count": 157,
   "metadata": {},
   "outputs": [
    {
     "data": {
      "text/html": [
       "<div>\n",
       "<style scoped>\n",
       "    .dataframe tbody tr th:only-of-type {\n",
       "        vertical-align: middle;\n",
       "    }\n",
       "\n",
       "    .dataframe tbody tr th {\n",
       "        vertical-align: top;\n",
       "    }\n",
       "\n",
       "    .dataframe thead th {\n",
       "        text-align: right;\n",
       "    }\n",
       "</style>\n",
       "<table border=\"1\" class=\"dataframe\">\n",
       "  <thead>\n",
       "    <tr style=\"text-align: right;\">\n",
       "      <th></th>\n",
       "      <th>row_id</th>\n",
       "      <th>cfips</th>\n",
       "      <th>county</th>\n",
       "      <th>state</th>\n",
       "      <th>first_day_of_month</th>\n",
       "      <th>microbusiness_density</th>\n",
       "      <th>active</th>\n",
       "    </tr>\n",
       "  </thead>\n",
       "  <tbody>\n",
       "    <tr>\n",
       "      <th>0</th>\n",
       "      <td>1001_2022-11-01</td>\n",
       "      <td>1001</td>\n",
       "      <td>Autauga County</td>\n",
       "      <td>Alabama</td>\n",
       "      <td>2022-11-01</td>\n",
       "      <td>3.44</td>\n",
       "      <td>1463</td>\n",
       "    </tr>\n",
       "    <tr>\n",
       "      <th>1</th>\n",
       "      <td>1001_2022-12-01</td>\n",
       "      <td>1001</td>\n",
       "      <td>Autauga County</td>\n",
       "      <td>Alabama</td>\n",
       "      <td>2022-12-01</td>\n",
       "      <td>3.47</td>\n",
       "      <td>1475</td>\n",
       "    </tr>\n",
       "  </tbody>\n",
       "</table>\n",
       "</div>"
      ],
      "text/plain": [
       "            row_id  cfips          county    state first_day_of_month  \\\n",
       "0  1001_2022-11-01   1001  Autauga County  Alabama         2022-11-01   \n",
       "1  1001_2022-12-01   1001  Autauga County  Alabama         2022-12-01   \n",
       "\n",
       "   microbusiness_density  active  \n",
       "0                   3.44    1463  \n",
       "1                   3.47    1475  "
      ]
     },
     "execution_count": 157,
     "metadata": {},
     "output_type": "execute_result"
    }
   ],
   "source": [
    "df_revealed_test[df_revealed_test['cfips'] == 1001].tail() #[['microbusiness_density', 'active']]"
   ]
  },
  {
   "cell_type": "code",
   "execution_count": 153,
   "metadata": {},
   "outputs": [
    {
     "data": {
      "text/plain": [
       "4.211920087419261"
      ]
     },
     "execution_count": 153,
     "metadata": {},
     "output_type": "execute_result"
    }
   ],
   "source": [
    "# SMAPE\n",
    "def SMAPE(actuals, preds):\n",
    "\tsmape = 0\n",
    "\tfor actual, pred in zip(actuals, preds):\n",
    "\t\tsmape += abs(actual-pred) / (abs(actual) + abs(pred)) * 2 * 100\n",
    "\treturn smape / len(actuals)\n",
    "\n",
    "# 예제 데이터 생성 (실제값과 예측값)\n",
    "data = {\n",
    "    'date': pd.date_range(start='2020-01-01', periods=10, freq='D'),\n",
    "    'actual': [100, 150, 200, 250, 300, 350, 400, 450, 500, 550],\n",
    "    'forecast': [110, 140, 210, 260, 295, 340, 410, 460, 480, 570]\n",
    "}\n",
    "df = pd.DataFrame(data)\n",
    "\n",
    "SMAPE(df['actual'], df['forecast']) # it's supposed to be 4.21 %"
   ]
  },
  {
   "cell_type": "code",
   "execution_count": 162,
   "metadata": {},
   "outputs": [],
   "source": [
    "actuals = df[['microbusiness_density', 'active']].rolling(window=pred_range).mean().shift(pred_range).tail(pred_range)['microbusiness_density'].values\n",
    "preds = df_revealed_test[df_revealed_test['cfips'] == 1001].tail()['microbusiness_density'].values"
   ]
  },
  {
   "cell_type": "code",
   "execution_count": 169,
   "metadata": {},
   "outputs": [
    {
     "data": {
      "text/plain": [
       "0.391775378913089"
      ]
     },
     "execution_count": 169,
     "metadata": {},
     "output_type": "execute_result"
    }
   ],
   "source": [
    "smape_value = SMAPE(actuals, preds).item()\n",
    "smape_value"
   ]
  }
 ],
 "metadata": {
  "kernelspec": {
   "display_name": "godaddy",
   "language": "python",
   "name": "python3"
  },
  "language_info": {
   "codemirror_mode": {
    "name": "ipython",
    "version": 3
   },
   "file_extension": ".py",
   "mimetype": "text/x-python",
   "name": "python",
   "nbconvert_exporter": "python",
   "pygments_lexer": "ipython3",
   "version": "3.10.0"
  }
 },
 "nbformat": 4,
 "nbformat_minor": 2
}
